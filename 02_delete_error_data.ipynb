{
 "cells": [
  {
   "cell_type": "markdown",
   "metadata": {},
   "source": [
    "### Agenda\n",
    "1. Reconcile images folder with imgtrain, imgval, imgtest\n",
    "2. Delete error photos in imgtrain, imgval, imgtest (truncated + 2D images)\n",
    "\n",
    "### Example of Corrupted Images\n",
    "1. [truncated] /home/r8user2/Documents/HY/dress_data/datasets/imgtrain/吊带长裙/Co6q2FryfKaAR0MqAASwZkxJ6No175.jpg\n",
    "\n",
    "### Actions Taken\n",
    "1. 1682 2d images are deleted\n",
    "2. 165 truncated images are deleted"
   ]
  },
  {
   "cell_type": "markdown",
   "metadata": {},
   "source": [
    "### Reconciliation"
   ]
  },
  {
   "cell_type": "code",
   "execution_count": 1,
   "metadata": {},
   "outputs": [],
   "source": [
    "import os\n",
    "from collections import defaultdict\n",
    "from PIL import Image\n",
    "from PIL import ImageFile\n",
    "PATH = '/home/r8user2/Documents/HY/dress_data/datasets'"
   ]
  },
  {
   "cell_type": "code",
   "execution_count": 3,
   "metadata": {},
   "outputs": [],
   "source": [
    "# files in images folder\n",
    "class_dict_img = {}\n",
    "for class_ in os.listdir(PATH+'/images'):\n",
    "    target_path = PATH + '/images/' + class_\n",
    "    class_dict_img[class_] = len(os.listdir(target_path))"
   ]
  },
  {
   "cell_type": "code",
   "execution_count": 5,
   "metadata": {},
   "outputs": [],
   "source": [
    "class_dict_train = {}\n",
    "for class_ in os.listdir(PATH + '/imgtrain'):\n",
    "    target_path = PATH + '/imgtrain/' + class_\n",
    "    class_dict_train[class_] = len(os.listdir(target_path))"
   ]
  },
  {
   "cell_type": "code",
   "execution_count": 6,
   "metadata": {},
   "outputs": [],
   "source": [
    "class_dict_val = {}\n",
    "for class_ in os.listdir(PATH + '/imgval'):\n",
    "    target_path = PATH + '/imgval/' + class_\n",
    "    class_dict_val[class_] = len(os.listdir(target_path))"
   ]
  },
  {
   "cell_type": "code",
   "execution_count": 7,
   "metadata": {},
   "outputs": [],
   "source": [
    "class_dict_test = {}\n",
    "for class_ in os.listdir(PATH + '/imgtest'):\n",
    "    target_path = PATH + '/imgtest/' + class_\n",
    "    class_dict_test[class_] = len(os.listdir(target_path))"
   ]
  },
  {
   "cell_type": "code",
   "execution_count": 8,
   "metadata": {},
   "outputs": [],
   "source": [
    "# Aggregate train, val and test\n",
    "class_dict_img2 = {}\n",
    "for class_ in class_dict_img.keys():\n",
    "    cnt = class_dict_train[class_] + class_dict_val[class_] + class_dict_test[class_]\n",
    "    class_dict_img2[class_] = cnt"
   ]
  },
  {
   "cell_type": "code",
   "execution_count": 9,
   "metadata": {},
   "outputs": [
    {
     "name": "stdout",
     "output_type": "stream",
     "text": [
      "[蝴蝶结长袖连衣裙] 2998 images v.s 4595 partition\n",
      "[短袖旗袍] 2998 images v.s 2996 partition\n",
      "[牛仔连衣裙子] 1340 images v.s 1339 partition\n",
      "[单排扣连衣裙] 3003 images v.s 3002 partition\n"
     ]
    }
   ],
   "source": [
    "for class_ in class_dict_img.keys():\n",
    "    if class_dict_img2[class_] != class_dict_img[class_]:\n",
    "        print('[%s] %d images v.s %d partition' % (class_, class_dict_img[class_], class_dict_img2[class_]))"
   ]
  },
  {
   "cell_type": "markdown",
   "metadata": {},
   "source": [
    "### Delete Error Photos (2D)"
   ]
  },
  {
   "cell_type": "code",
   "execution_count": 2,
   "metadata": {},
   "outputs": [],
   "source": [
    "SOURCE_PATH = '/home/r8user2/Documents/HY/dress_data/datasets/'\n",
    "PARTITION_MAP = {1: 'imgtrain', 2: 'imgval', 3: 'imgtest'}\n",
    "CLASS_MAP = {}\n",
    "for id_, class_type in enumerate(os.listdir(SOURCE_PATH + 'imgtrain')):\n",
    "    CLASS_MAP[id_] = class_type"
   ]
  },
  {
   "cell_type": "code",
   "execution_count": 6,
   "metadata": {},
   "outputs": [],
   "source": [
    "dist_dict = defaultdict(dict)\n",
    "for partition_idx, folder in PARTITION_MAP.items():\n",
    "    for class_idx, class_ in CLASS_MAP.items():\n",
    "        target_path = SOURCE_PATH + folder +'/' + class_\n",
    "        cnt = len([item for item in os.listdir(target_path) if 'jpg' in item])\n",
    "        dist_dict[partition_idx][class_idx] = cnt\n",
    "        #print('[%s/ %s]: %d' % (folder, class_, cnt))"
   ]
  },
  {
   "cell_type": "code",
   "execution_count": 12,
   "metadata": {},
   "outputs": [],
   "source": [
    "# Input class index, partition set and photo index, output an image display\n",
    "# [partition_idx] train: 1, val: 2, test: 3\n",
    "def jpg_query(class_idx, partition_idx, file_idx, vis = True, print_path = False):\n",
    "    # Set up target path\n",
    "    class_type = CLASS_MAP[class_idx]\n",
    "    partition_type = PARTITION_MAP[partition_idx]\n",
    "    sub_target_path = SOURCE_PATH + partition_type + '/' + class_type\n",
    "    target_filename = os.listdir(sub_target_path)[file_idx]\n",
    "    target_path = sub_target_path + '/' + target_filename\n",
    "    if print_path:\n",
    "        print('Path: %s' % target_path)\n",
    "    \n",
    "    img = Image.open(target_path)\n",
    "    if vis: \n",
    "    # Display image\n",
    "        plt.imshow(img);\n",
    "        print(np.asarray(img, dtype=np.uint8).shape)\n",
    "    # np.unit8 = 2**8\n",
    "    return np.asarray(img, dtype=np.uint8).shape"
   ]
  },
  {
   "cell_type": "code",
   "execution_count": 13,
   "metadata": {},
   "outputs": [],
   "source": [
    "def is_error(class_idx, partition_idx, file_idx):\n",
    "    dim = jpg_query(class_idx, partition_idx, file_idx, vis = False, print_path = False)\n",
    "    if len(dim) == 3:\n",
    "        is_error_ = 0\n",
    "    else:\n",
    "        is_error_ = 1\n",
    "    return (partition_idx, class_idx, file_idx), is_error_"
   ]
  },
  {
   "cell_type": "code",
   "execution_count": 7,
   "metadata": {},
   "outputs": [],
   "source": [
    "# Create input list for multiprocess\n",
    "input_list = []\n",
    "for partition_idx, partition_type in PARTITION_MAP.items():\n",
    "    for class_idx, class_type in CLASS_MAP.items():\n",
    "        jpg_num = dist_dict[partition_idx][class_idx]\n",
    "        for i in range(jpg_num):\n",
    "            tmp_tuple = (class_idx, partition_idx, i)\n",
    "            input_list.append(tmp_tuple)\n",
    "input_list = tuple(input_list)"
   ]
  },
  {
   "cell_type": "code",
   "execution_count": 25,
   "metadata": {},
   "outputs": [
    {
     "name": "stdout",
     "output_type": "stream",
     "text": [
      "---Multiprocess Complete: 6 mins ---\n"
     ]
    }
   ],
   "source": [
    "# Multi-processing\n",
    "import time\n",
    "import multiprocess as mp\n",
    "ImageFile.LOAD_TRUNCATED_IMAGES = True\n",
    "\n",
    "start_time = time.time()\n",
    "p = mp.Pool(processes = 60)\n",
    "\n",
    "with p as pool:\n",
    "    results = p.starmap(is_error, input_list)\n",
    "\n",
    "p.close()\n",
    "p.join()\n",
    "print(\"---Multiprocess Complete: %d mins ---\" % ((time.time() - start_time)/60))"
   ]
  },
  {
   "cell_type": "code",
   "execution_count": 60,
   "metadata": {},
   "outputs": [],
   "source": [
    "def get_path(tuples):\n",
    "    error_tuples = [i for i in tuples if i[1] == 1]\n",
    "    file_paths = []\n",
    "    for t1, t2 in error_tuples:\n",
    "        partition_folder = PARTITION_MAP[t1[0]]\n",
    "        class_folder = CLASS_MAP[t1[1]]\n",
    "        sub_path = SOURCE_PATH + partition_folder + '/' + class_folder\n",
    "        filename = os.listdir(sub_path)[t1[2]]\n",
    "        path = sub_path + '/' + filename\n",
    "        file_paths.append(path)\n",
    "    return file_paths"
   ]
  },
  {
   "cell_type": "code",
   "execution_count": 38,
   "metadata": {},
   "outputs": [
    {
     "data": {
      "text/plain": [
       "1682"
      ]
     },
     "execution_count": 38,
     "metadata": {},
     "output_type": "execute_result"
    }
   ],
   "source": [
    "# 1682 corrupted images (2D array)\n",
    "files_2d = get_path(results)\n",
    "len(files_2d)"
   ]
  },
  {
   "cell_type": "code",
   "execution_count": 52,
   "metadata": {},
   "outputs": [],
   "source": [
    "# !!!! REMOVE THE FILES\n",
    "for path in files_2d:\n",
    "    os.remove(path)"
   ]
  },
  {
   "cell_type": "markdown",
   "metadata": {},
   "source": [
    "### Delete Error Photos (Truncated)"
   ]
  },
  {
   "cell_type": "code",
   "execution_count": 45,
   "metadata": {},
   "outputs": [],
   "source": [
    "ImageFile.LOAD_TRUNCATED_IMAGES = False"
   ]
  },
  {
   "cell_type": "code",
   "execution_count": 53,
   "metadata": {},
   "outputs": [],
   "source": [
    "from skimage import io\n",
    "\n",
    "def is_truncate(class_idx, partition_idx, file_idx):\n",
    "    # set up path\n",
    "    class_type = CLASS_MAP[class_idx]\n",
    "    partition_type = PARTITION_MAP[partition_idx]\n",
    "    sub_target_path = SOURCE_PATH + partition_type + '/' + class_type\n",
    "    target_filename = os.listdir(sub_target_path)[file_idx]\n",
    "    target_path = sub_target_path + '/' + target_filename\n",
    "    #print('target_path: %s' % target_path)\n",
    "    #if target_path == '/home/r8user2/Documents/HY/dress_data/datasets/imgtrain/吊带长裙/Co6q2FryfKaAR0MqAASwZkxJ6No175.jpg':\n",
    "    #    print('I AM HERE')\n",
    "    #save_path = '/home/r8user2/Documents/HY/dress_data/alex_workplace/dressdata_project/git_workplace/tt.jpg'\n",
    "    is_error_ = 0\n",
    "    try:\n",
    "        img = io.imread(target_path)\n",
    "    except:\n",
    "        is_error_ = 1\n",
    "        return (partition_idx, class_idx, file_idx), is_error_\n",
    "    return (partition_idx, class_idx, file_idx), is_error_"
   ]
  },
  {
   "cell_type": "code",
   "execution_count": 56,
   "metadata": {},
   "outputs": [
    {
     "name": "stdout",
     "output_type": "stream",
     "text": [
      "---Multiprocess Complete: 29 mins ---\n"
     ]
    }
   ],
   "source": [
    "# Multi-processing\n",
    "import time\n",
    "import multiprocess as mp\n",
    "\n",
    "start_time = time.time()\n",
    "p = mp.Pool(processes = 60)\n",
    "\n",
    "with p as pool:\n",
    "    trun_results = p.starmap(is_truncate, input_list)\n",
    "\n",
    "p.close()\n",
    "p.join()\n",
    "print(\"---Multiprocess Complete: %d mins ---\" % ((time.time() - start_time)/60))"
   ]
  },
  {
   "cell_type": "code",
   "execution_count": 61,
   "metadata": {},
   "outputs": [],
   "source": [
    "files_trun = get_path(trun_results)"
   ]
  },
  {
   "cell_type": "code",
   "execution_count": 63,
   "metadata": {},
   "outputs": [
    {
     "data": {
      "text/plain": [
       "165"
      ]
     },
     "execution_count": 63,
     "metadata": {},
     "output_type": "execute_result"
    }
   ],
   "source": [
    "# 165 truncated images\n",
    "len(files_trun)"
   ]
  },
  {
   "cell_type": "code",
   "execution_count": 64,
   "metadata": {},
   "outputs": [],
   "source": [
    "# !!!! REMOVE THE FILES\n",
    "for path in files_trun:\n",
    "    os.remove(path)"
   ]
  }
 ],
 "metadata": {
  "kernelspec": {
   "display_name": "Python 3",
   "language": "python",
   "name": "python3"
  },
  "language_info": {
   "codemirror_mode": {
    "name": "ipython",
    "version": 3
   },
   "file_extension": ".py",
   "mimetype": "text/x-python",
   "name": "python",
   "nbconvert_exporter": "python",
   "pygments_lexer": "ipython3",
   "version": "3.7.2"
  },
  "toc": {
   "base_numbering": 1,
   "nav_menu": {},
   "number_sections": true,
   "sideBar": true,
   "skip_h1_title": false,
   "title_cell": "Table of Contents",
   "title_sidebar": "Contents",
   "toc_cell": false,
   "toc_position": {},
   "toc_section_display": true,
   "toc_window_display": false
  },
  "varInspector": {
   "cols": {
    "lenName": 16,
    "lenType": 16,
    "lenVar": 40
   },
   "kernels_config": {
    "python": {
     "delete_cmd_postfix": "",
     "delete_cmd_prefix": "del ",
     "library": "var_list.py",
     "varRefreshCmd": "print(var_dic_list())"
    },
    "r": {
     "delete_cmd_postfix": ") ",
     "delete_cmd_prefix": "rm(",
     "library": "var_list.r",
     "varRefreshCmd": "cat(var_dic_list()) "
    }
   },
   "types_to_exclude": [
    "module",
    "function",
    "builtin_function_or_method",
    "instance",
    "_Feature"
   ],
   "window_display": false
  }
 },
 "nbformat": 4,
 "nbformat_minor": 2
}
