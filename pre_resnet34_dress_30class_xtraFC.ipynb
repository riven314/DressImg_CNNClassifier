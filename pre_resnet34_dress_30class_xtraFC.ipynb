{
 "cells": [
  {
   "cell_type": "markdown",
   "metadata": {},
   "source": [
    "### Discovery\n",
    "1. dropout rate can greatly influence the initial learning curve\n",
    "2. can increase the batch size for larger image size\n",
    "\n",
    "### Model Specification\n",
    "Model: pretrained resnet34 | Data: 30 classes | Dropout: 0.05 | Max Size: 299 | Remarks: 3 extra fully connected layers [512, 256, 128]\n",
    "\n",
    "Result: After a series of training, val acc converge to 75%\n",
    "\n",
    "*[21/01/2019]*"
   ]
  },
  {
   "cell_type": "code",
   "execution_count": 1,
   "metadata": {},
   "outputs": [],
   "source": [
    "%reload_ext autoreload\n",
    "%autoreload 2\n",
    "%matplotlib inline\n",
    "\n",
    "import sys\n",
    "sys.path.append('/home/r8user2/fastai/old')\n",
    "from fastai.imports import *\n",
    "from fastai.transforms import *\n",
    "from fastai.conv_learner import *\n",
    "from fastai.model import *\n",
    "from fastai.dataset import *\n",
    "from fastai.sgdr import *\n",
    "from fastai.plots import *\n",
    "import matplotlib.pyplot as plt"
   ]
  },
  {
   "cell_type": "code",
   "execution_count": 2,
   "metadata": {},
   "outputs": [],
   "source": [
    "PATH = '/home/r8user2/Documents/HY/dress_data/alex_workplace/dressdata_project/git_workplace/selected_gd_data_30'\n",
    "CPU_WORKERS = 60\n",
    "sz = 224"
   ]
  },
  {
   "cell_type": "code",
   "execution_count": 3,
   "metadata": {},
   "outputs": [],
   "source": [
    "arch = resnet34\n",
    "tfms = tfms_from_model(resnet34,\n",
    "                       sz,\n",
    "                       aug_tfms = transforms_side_on,\n",
    "                       max_zoom = 1.1)"
   ]
  },
  {
   "cell_type": "code",
   "execution_count": 5,
   "metadata": {},
   "outputs": [],
   "source": [
    "# For upgrade image size later\n",
    "def get_data(sz, bs = 64):\n",
    "    tfms = tfms_from_model(arch, sz, aug_tfms = transforms_side_on, max_zoom = 1.1)\n",
    "    data = ImageClassifierData.from_paths(PATH,\n",
    "                                          tfms = tfms,\n",
    "                                          trn_name = 'imgtrain',\n",
    "                                          val_name = 'imgval',\n",
    "                                          test_name = 'imgtest',\n",
    "                                          test_with_labels = True,\n",
    "                                          num_workers = CPU_WORKERS,\n",
    "                                          bs = bs)\n",
    "    return data if sz>300 else data.resize(340, 'tmp_30class')"
   ]
  },
  {
   "cell_type": "code",
   "execution_count": 6,
   "metadata": {},
   "outputs": [
    {
     "data": {
      "application/vnd.jupyter.widget-view+json": {
       "model_id": "260a5d867dc741be8387286bbfb99426",
       "version_major": 2,
       "version_minor": 0
      },
      "text/plain": [
       "HBox(children=(IntProgress(value=0, max=6), HTML(value='')))"
      ]
     },
     "metadata": {},
     "output_type": "display_data"
    },
    {
     "name": "stdout",
     "output_type": "stream",
     "text": [
      "                                                    \n"
     ]
    }
   ],
   "source": [
    "data = get_data(sz)"
   ]
  },
  {
   "cell_type": "markdown",
   "metadata": {},
   "source": [
    "### Find Optimal Dropout Rate"
   ]
  },
  {
   "cell_type": "code",
   "execution_count": 18,
   "metadata": {
    "scrolled": true
   },
   "outputs": [
    {
     "name": "stdout",
     "output_type": "stream",
     "text": [
      "Dropout rate = 0.0\n"
     ]
    },
    {
     "data": {
      "application/vnd.jupyter.widget-view+json": {
       "model_id": "4630b5dd09d5472e9beb13c56ef00668",
       "version_major": 2,
       "version_minor": 0
      },
      "text/plain": [
       "HBox(children=(IntProgress(value=0, description='Epoch', max=10, style=ProgressStyle(description_width='initia…"
      ]
     },
     "metadata": {},
     "output_type": "display_data"
    },
    {
     "name": "stdout",
     "output_type": "stream",
     "text": [
      "epoch      trn_loss   val_loss   accuracy                     \n",
      "    0      2.239174   2.176426   0.37254   \n",
      "    1      1.958935   2.030285   0.421337                     \n",
      "    2      1.781696   1.962471   0.439751                     \n",
      "    3      1.669451   1.924614   0.464265                     \n",
      "    4      1.480808   1.8844     0.480723                     \n",
      "    5      1.387214   1.882468   0.497756                     \n",
      "    6      1.297446   1.89229    0.504316                     \n",
      "    7      1.176855   1.91509    0.515825                     \n",
      "    8      1.056432   1.913271   0.527103                     \n",
      "    9      0.983698   1.976269   0.526528                      \n",
      "Dropout rate = 0.05\n"
     ]
    },
    {
     "data": {
      "application/vnd.jupyter.widget-view+json": {
       "model_id": "a08ce06d62b344ffad69e12747e14494",
       "version_major": 2,
       "version_minor": 0
      },
      "text/plain": [
       "HBox(children=(IntProgress(value=0, description='Epoch', max=10, style=ProgressStyle(description_width='initia…"
      ]
     },
     "metadata": {},
     "output_type": "display_data"
    },
    {
     "name": "stdout",
     "output_type": "stream",
     "text": [
      "epoch      trn_loss   val_loss   accuracy                     \n",
      "    0      2.339417   2.217783   0.35896   \n",
      "    1      2.128063   2.08727    0.396363                     \n",
      "    2      1.974361   1.980211   0.433537                     \n",
      "    3      1.872243   1.906961   0.456324                     \n",
      "    4      1.790281   1.88575    0.460122                     \n",
      "    5      1.679775   1.833021   0.481643                     \n",
      "    6      1.549239   1.812533   0.49016                      \n",
      "    7      1.499077   1.7909     0.502014                     \n",
      "    8      1.423354   1.771528   0.509495                     \n",
      "    9      1.327042   1.754591   0.521694                     \n",
      "Dropout rate = 0.1\n"
     ]
    },
    {
     "data": {
      "application/vnd.jupyter.widget-view+json": {
       "model_id": "f0195af022174d9a8a0af009f29f7dd0",
       "version_major": 2,
       "version_minor": 0
      },
      "text/plain": [
       "HBox(children=(IntProgress(value=0, description='Epoch', max=10, style=ProgressStyle(description_width='initia…"
      ]
     },
     "metadata": {},
     "output_type": "display_data"
    },
    {
     "name": "stdout",
     "output_type": "stream",
     "text": [
      "epoch      trn_loss   val_loss   accuracy                     \n",
      "    0      2.434397   2.261724   0.347451  \n",
      "    1      2.237014   2.11054    0.388307                     \n",
      "    2      2.115851   2.021001   0.41846                      \n",
      "    3      2.036823   1.962512   0.432271                     \n",
      "    4      1.956994   1.91014    0.45103                      \n",
      "    5      1.876522   1.86514    0.465646                     \n",
      "    6      1.774911   1.836605   0.474968                     \n",
      "    7      1.701537   1.807313   0.485902                     \n",
      "    8      1.643067   1.78451    0.495799                     \n",
      "    9      1.612893   1.769188   0.49695                      \n",
      "Dropout rate = 0.15000000000000002\n"
     ]
    },
    {
     "data": {
      "application/vnd.jupyter.widget-view+json": {
       "model_id": "0eed620f055c4f368f6785c1dae3bb0b",
       "version_major": 2,
       "version_minor": 0
      },
      "text/plain": [
       "HBox(children=(IntProgress(value=0, description='Epoch', max=10, style=ProgressStyle(description_width='initia…"
      ]
     },
     "metadata": {},
     "output_type": "display_data"
    },
    {
     "name": "stdout",
     "output_type": "stream",
     "text": [
      "epoch      trn_loss   val_loss   accuracy                     \n",
      "    0      2.470451   2.307846   0.334791  \n",
      "    1      2.344436   2.164151   0.364599                     \n",
      "    2      2.222888   2.087974   0.396478                     \n",
      "    3      2.138324   2.025872   0.415583                     \n",
      "    4      2.093794   1.982051   0.42525                      \n",
      "    5      2.039828   1.929973   0.436874                     \n",
      "    6      1.969516   1.905159   0.451145                     \n",
      "    7      1.868247   1.860537   0.460007                     \n",
      "    8      1.842177   1.837347   0.469329                     \n",
      "    9      1.822501   1.81117    0.482104                     \n"
     ]
    }
   ],
   "source": [
    "# optimal dropout rate\n",
    "# default ps = [0.25, 0.5]\n",
    "import numpy as np\n",
    "lr=1e-2\n",
    "\n",
    "dropout_rate=[]\n",
    "min_val_loss=[]\n",
    "for dropout in np.arange(0.0, 0.2, 0.05):\n",
    "    dropout_rate.append(dropout)\n",
    "    print('Dropout rate = %s' % dropout)\n",
    "    learn = ConvLearner.pretrained(arch, data, ps = dropout, xtra_fc = [512, 256, 128], precompute = True)\n",
    "    _, ep_vals = learn.fit(lr, 10, get_ep_vals=True);\n",
    "    min_val_loss.append(min(l[1] for l in list(ep_vals.values())))"
   ]
  },
  {
   "cell_type": "code",
   "execution_count": 19,
   "metadata": {},
   "outputs": [
    {
     "data": {
      "text/plain": [
       "[<matplotlib.lines.Line2D at 0x7f4cc07d6be0>]"
      ]
     },
     "execution_count": 19,
     "metadata": {},
     "output_type": "execute_result"
    },
    {
     "data": {
      "image/png": "[encoded data removed]",
      "text/plain": [
       "<Figure size 432x288 with 1 Axes>"
      ]
     },
     "metadata": {
      "needs_background": "light"
     },
     "output_type": "display_data"
    }
   ],
   "source": [
    "plt.plot(dropout_rate, min_val_loss)"
   ]
  },
  {
   "cell_type": "code",
   "execution_count": 7,
   "metadata": {},
   "outputs": [
    {
     "name": "stdout",
     "output_type": "stream",
     "text": [
      "100%|██████████| 136/136 [00:48<00:00,  2.80it/s]\n"
     ]
    }
   ],
   "source": [
    "learn = ConvLearner.pretrained(arch, data, ps = 0.05, xtra_fc = [512, 256, 128], precompute = True)"
   ]
  },
  {
   "cell_type": "code",
   "execution_count": 11,
   "metadata": {
    "collapsed": true
   },
   "outputs": [
    {
     "data": {
      "text/plain": [
       "OrderedDict([('Conv2d-1',\n",
       "              OrderedDict([('input_shape', [-1, 3, 224, 224]),\n",
       "                           ('output_shape', [-1, 64, 112, 112]),\n",
       "                           ('trainable', False),\n",
       "                           ('nb_params', 9408)])),\n",
       "             ('BatchNorm2d-2',\n",
       "              OrderedDict([('input_shape', [-1, 64, 112, 112]),\n",
       "                           ('output_shape', [-1, 64, 112, 112]),\n",
       "                           ('trainable', False),\n",
       "                           ('nb_params', 128)])),\n",
       "             ('ReLU-3',\n",
       "              OrderedDict([('input_shape', [-1, 64, 112, 112]),\n",
       "                           ('output_shape', [-1, 64, 112, 112]),\n",
       "                           ('nb_params', 0)])),\n",
       "             ('MaxPool2d-4',\n",
       "              OrderedDict([('input_shape', [-1, 64, 112, 112]),\n",
       "                           ('output_shape', [-1, 64, 56, 56]),\n",
       "                           ('nb_params', 0)])),\n",
       "             ('Conv2d-5',\n",
       "              OrderedDict([('input_shape', [-1, 64, 56, 56]),\n",
       "                           ('output_shape', [-1, 64, 56, 56]),\n",
       "                           ('trainable', False),\n",
       "                           ('nb_params', 36864)])),\n",
       "             ('BatchNorm2d-6',\n",
       "              OrderedDict([('input_shape', [-1, 64, 56, 56]),\n",
       "                           ('output_shape', [-1, 64, 56, 56]),\n",
       "                           ('trainable', False),\n",
       "                           ('nb_params', 128)])),\n",
       "             ('ReLU-7',\n",
       "              OrderedDict([('input_shape', [-1, 64, 56, 56]),\n",
       "                           ('output_shape', [-1, 64, 56, 56]),\n",
       "                           ('nb_params', 0)])),\n",
       "             ('Conv2d-8',\n",
       "              OrderedDict([('input_shape', [-1, 64, 56, 56]),\n",
       "                           ('output_shape', [-1, 64, 56, 56]),\n",
       "                           ('trainable', False),\n",
       "                           ('nb_params', 36864)])),\n",
       "             ('BatchNorm2d-9',\n",
       "              OrderedDict([('input_shape', [-1, 64, 56, 56]),\n",
       "                           ('output_shape', [-1, 64, 56, 56]),\n",
       "                           ('trainable', False),\n",
       "                           ('nb_params', 128)])),\n",
       "             ('ReLU-10',\n",
       "              OrderedDict([('input_shape', [-1, 64, 56, 56]),\n",
       "                           ('output_shape', [-1, 64, 56, 56]),\n",
       "                           ('nb_params', 0)])),\n",
       "             ('BasicBlock-11',\n",
       "              OrderedDict([('input_shape', [-1, 64, 56, 56]),\n",
       "                           ('output_shape', [-1, 64, 56, 56]),\n",
       "                           ('nb_params', 0)])),\n",
       "             ('Conv2d-12',\n",
       "              OrderedDict([('input_shape', [-1, 64, 56, 56]),\n",
       "                           ('output_shape', [-1, 64, 56, 56]),\n",
       "                           ('trainable', False),\n",
       "                           ('nb_params', 36864)])),\n",
       "             ('BatchNorm2d-13',\n",
       "              OrderedDict([('input_shape', [-1, 64, 56, 56]),\n",
       "                           ('output_shape', [-1, 64, 56, 56]),\n",
       "                           ('trainable', False),\n",
       "                           ('nb_params', 128)])),\n",
       "             ('ReLU-14',\n",
       "              OrderedDict([('input_shape', [-1, 64, 56, 56]),\n",
       "                           ('output_shape', [-1, 64, 56, 56]),\n",
       "                           ('nb_params', 0)])),\n",
       "             ('Conv2d-15',\n",
       "              OrderedDict([('input_shape', [-1, 64, 56, 56]),\n",
       "                           ('output_shape', [-1, 64, 56, 56]),\n",
       "                           ('trainable', False),\n",
       "                           ('nb_params', 36864)])),\n",
       "             ('BatchNorm2d-16',\n",
       "              OrderedDict([('input_shape', [-1, 64, 56, 56]),\n",
       "                           ('output_shape', [-1, 64, 56, 56]),\n",
       "                           ('trainable', False),\n",
       "                           ('nb_params', 128)])),\n",
       "             ('ReLU-17',\n",
       "              OrderedDict([('input_shape', [-1, 64, 56, 56]),\n",
       "                           ('output_shape', [-1, 64, 56, 56]),\n",
       "                           ('nb_params', 0)])),\n",
       "             ('BasicBlock-18',\n",
       "              OrderedDict([('input_shape', [-1, 64, 56, 56]),\n",
       "                           ('output_shape', [-1, 64, 56, 56]),\n",
       "                           ('nb_params', 0)])),\n",
       "             ('Conv2d-19',\n",
       "              OrderedDict([('input_shape', [-1, 64, 56, 56]),\n",
       "                           ('output_shape', [-1, 64, 56, 56]),\n",
       "                           ('trainable', False),\n",
       "                           ('nb_params', 36864)])),\n",
       "             ('BatchNorm2d-20',\n",
       "              OrderedDict([('input_shape', [-1, 64, 56, 56]),\n",
       "                           ('output_shape', [-1, 64, 56, 56]),\n",
       "                           ('trainable', False),\n",
       "                           ('nb_params', 128)])),\n",
       "             ('ReLU-21',\n",
       "              OrderedDict([('input_shape', [-1, 64, 56, 56]),\n",
       "                           ('output_shape', [-1, 64, 56, 56]),\n",
       "                           ('nb_params', 0)])),\n",
       "             ('Conv2d-22',\n",
       "              OrderedDict([('input_shape', [-1, 64, 56, 56]),\n",
       "                           ('output_shape', [-1, 64, 56, 56]),\n",
       "                           ('trainable', False),\n",
       "                           ('nb_params', 36864)])),\n",
       "             ('BatchNorm2d-23',\n",
       "              OrderedDict([('input_shape', [-1, 64, 56, 56]),\n",
       "                           ('output_shape', [-1, 64, 56, 56]),\n",
       "                           ('trainable', False),\n",
       "                           ('nb_params', 128)])),\n",
       "             ('ReLU-24',\n",
       "              OrderedDict([('input_shape', [-1, 64, 56, 56]),\n",
       "                           ('output_shape', [-1, 64, 56, 56]),\n",
       "                           ('nb_params', 0)])),\n",
       "             ('BasicBlock-25',\n",
       "              OrderedDict([('input_shape', [-1, 64, 56, 56]),\n",
       "                           ('output_shape', [-1, 64, 56, 56]),\n",
       "                           ('nb_params', 0)])),\n",
       "             ('Conv2d-26',\n",
       "              OrderedDict([('input_shape', [-1, 64, 56, 56]),\n",
       "                           ('output_shape', [-1, 128, 28, 28]),\n",
       "                           ('trainable', False),\n",
       "                           ('nb_params', 73728)])),\n",
       "             ('BatchNorm2d-27',\n",
       "              OrderedDict([('input_shape', [-1, 128, 28, 28]),\n",
       "                           ('output_shape', [-1, 128, 28, 28]),\n",
       "                           ('trainable', False),\n",
       "                           ('nb_params', 256)])),\n",
       "             ('ReLU-28',\n",
       "              OrderedDict([('input_shape', [-1, 128, 28, 28]),\n",
       "                           ('output_shape', [-1, 128, 28, 28]),\n",
       "                           ('nb_params', 0)])),\n",
       "             ('Conv2d-29',\n",
       "              OrderedDict([('input_shape', [-1, 128, 28, 28]),\n",
       "                           ('output_shape', [-1, 128, 28, 28]),\n",
       "                           ('trainable', False),\n",
       "                           ('nb_params', 147456)])),\n",
       "             ('BatchNorm2d-30',\n",
       "              OrderedDict([('input_shape', [-1, 128, 28, 28]),\n",
       "                           ('output_shape', [-1, 128, 28, 28]),\n",
       "                           ('trainable', False),\n",
       "                           ('nb_params', 256)])),\n",
       "             ('Conv2d-31',\n",
       "              OrderedDict([('input_shape', [-1, 64, 56, 56]),\n",
       "                           ('output_shape', [-1, 128, 28, 28]),\n",
       "                           ('trainable', False),\n",
       "                           ('nb_params', 8192)])),\n",
       "             ('BatchNorm2d-32',\n",
       "              OrderedDict([('input_shape', [-1, 128, 28, 28]),\n",
       "                           ('output_shape', [-1, 128, 28, 28]),\n",
       "                           ('trainable', False),\n",
       "                           ('nb_params', 256)])),\n",
       "             ('ReLU-33',\n",
       "              OrderedDict([('input_shape', [-1, 128, 28, 28]),\n",
       "                           ('output_shape', [-1, 128, 28, 28]),\n",
       "                           ('nb_params', 0)])),\n",
       "             ('BasicBlock-34',\n",
       "              OrderedDict([('input_shape', [-1, 64, 56, 56]),\n",
       "                           ('output_shape', [-1, 128, 28, 28]),\n",
       "                           ('nb_params', 0)])),\n",
       "             ('Conv2d-35',\n",
       "              OrderedDict([('input_shape', [-1, 128, 28, 28]),\n",
       "                           ('output_shape', [-1, 128, 28, 28]),\n",
       "                           ('trainable', False),\n",
       "                           ('nb_params', 147456)])),\n",
       "             ('BatchNorm2d-36',\n",
       "              OrderedDict([('input_shape', [-1, 128, 28, 28]),\n",
       "                           ('output_shape', [-1, 128, 28, 28]),\n",
       "                           ('trainable', False),\n",
       "                           ('nb_params', 256)])),\n",
       "             ('ReLU-37',\n",
       "              OrderedDict([('input_shape', [-1, 128, 28, 28]),\n",
       "                           ('output_shape', [-1, 128, 28, 28]),\n",
       "                           ('nb_params', 0)])),\n",
       "             ('Conv2d-38',\n",
       "              OrderedDict([('input_shape', [-1, 128, 28, 28]),\n",
       "                           ('output_shape', [-1, 128, 28, 28]),\n",
       "                           ('trainable', False),\n",
       "                           ('nb_params', 147456)])),\n",
       "             ('BatchNorm2d-39',\n",
       "              OrderedDict([('input_shape', [-1, 128, 28, 28]),\n",
       "                           ('output_shape', [-1, 128, 28, 28]),\n",
       "                           ('trainable', False),\n",
       "                           ('nb_params', 256)])),\n",
       "             ('ReLU-40',\n",
       "              OrderedDict([('input_shape', [-1, 128, 28, 28]),\n",
       "                           ('output_shape', [-1, 128, 28, 28]),\n",
       "                           ('nb_params', 0)])),\n",
       "             ('BasicBlock-41',\n",
       "              OrderedDict([('input_shape', [-1, 128, 28, 28]),\n",
       "                           ('output_shape', [-1, 128, 28, 28]),\n",
       "                           ('nb_params', 0)])),\n",
       "             ('Conv2d-42',\n",
       "              OrderedDict([('input_shape', [-1, 128, 28, 28]),\n",
       "                           ('output_shape', [-1, 128, 28, 28]),\n",
       "                           ('trainable', False),\n",
       "                           ('nb_params', 147456)])),\n",
       "             ('BatchNorm2d-43',\n",
       "              OrderedDict([('input_shape', [-1, 128, 28, 28]),\n",
       "                           ('output_shape', [-1, 128, 28, 28]),\n",
       "                           ('trainable', False),\n",
       "                           ('nb_params', 256)])),\n",
       "             ('ReLU-44',\n",
       "              OrderedDict([('input_shape', [-1, 128, 28, 28]),\n",
       "                           ('output_shape', [-1, 128, 28, 28]),\n",
       "                           ('nb_params', 0)])),\n",
       "             ('Conv2d-45',\n",
       "              OrderedDict([('input_shape', [-1, 128, 28, 28]),\n",
       "                           ('output_shape', [-1, 128, 28, 28]),\n",
       "                           ('trainable', False),\n",
       "                           ('nb_params', 147456)])),\n",
       "             ('BatchNorm2d-46',\n",
       "              OrderedDict([('input_shape', [-1, 128, 28, 28]),\n",
       "                           ('output_shape', [-1, 128, 28, 28]),\n",
       "                           ('trainable', False),\n",
       "                           ('nb_params', 256)])),\n",
       "             ('ReLU-47',\n",
       "              OrderedDict([('input_shape', [-1, 128, 28, 28]),\n",
       "                           ('output_shape', [-1, 128, 28, 28]),\n",
       "                           ('nb_params', 0)])),\n",
       "             ('BasicBlock-48',\n",
       "              OrderedDict([('input_shape', [-1, 128, 28, 28]),\n",
       "                           ('output_shape', [-1, 128, 28, 28]),\n",
       "                           ('nb_params', 0)])),\n",
       "             ('Conv2d-49',\n",
       "              OrderedDict([('input_shape', [-1, 128, 28, 28]),\n",
       "                           ('output_shape', [-1, 128, 28, 28]),\n",
       "                           ('trainable', False),\n",
       "                           ('nb_params', 147456)])),\n",
       "             ('BatchNorm2d-50',\n",
       "              OrderedDict([('input_shape', [-1, 128, 28, 28]),\n",
       "                           ('output_shape', [-1, 128, 28, 28]),\n",
       "                           ('trainable', False),\n",
       "                           ('nb_params', 256)])),\n",
       "             ('ReLU-51',\n",
       "              OrderedDict([('input_shape', [-1, 128, 28, 28]),\n",
       "                           ('output_shape', [-1, 128, 28, 28]),\n",
       "                           ('nb_params', 0)])),\n",
       "             ('Conv2d-52',\n",
       "              OrderedDict([('input_shape', [-1, 128, 28, 28]),\n",
       "                           ('output_shape', [-1, 128, 28, 28]),\n",
       "                           ('trainable', False),\n",
       "                           ('nb_params', 147456)])),\n",
       "             ('BatchNorm2d-53',\n",
       "              OrderedDict([('input_shape', [-1, 128, 28, 28]),\n",
       "                           ('output_shape', [-1, 128, 28, 28]),\n",
       "                           ('trainable', False),\n",
       "                           ('nb_params', 256)])),\n",
       "             ('ReLU-54',\n",
       "              OrderedDict([('input_shape', [-1, 128, 28, 28]),\n",
       "                           ('output_shape', [-1, 128, 28, 28]),\n",
       "                           ('nb_params', 0)])),\n",
       "             ('BasicBlock-55',\n",
       "              OrderedDict([('input_shape', [-1, 128, 28, 28]),\n",
       "                           ('output_shape', [-1, 128, 28, 28]),\n",
       "                           ('nb_params', 0)])),\n",
       "             ('Conv2d-56',\n",
       "              OrderedDict([('input_shape', [-1, 128, 28, 28]),\n",
       "                           ('output_shape', [-1, 256, 14, 14]),\n",
       "                           ('trainable', False),\n",
       "                           ('nb_params', 294912)])),\n",
       "             ('BatchNorm2d-57',\n",
       "              OrderedDict([('input_shape', [-1, 256, 14, 14]),\n",
       "                           ('output_shape', [-1, 256, 14, 14]),\n",
       "                           ('trainable', False),\n",
       "                           ('nb_params', 512)])),\n",
       "             ('ReLU-58',\n",
       "              OrderedDict([('input_shape', [-1, 256, 14, 14]),\n",
       "                           ('output_shape', [-1, 256, 14, 14]),\n",
       "                           ('nb_params', 0)])),\n",
       "             ('Conv2d-59',\n",
       "              OrderedDict([('input_shape', [-1, 256, 14, 14]),\n",
       "                           ('output_shape', [-1, 256, 14, 14]),\n",
       "                           ('trainable', False),\n",
       "                           ('nb_params', 589824)])),\n",
       "             ('BatchNorm2d-60',\n",
       "              OrderedDict([('input_shape', [-1, 256, 14, 14]),\n",
       "                           ('output_shape', [-1, 256, 14, 14]),\n",
       "                           ('trainable', False),\n",
       "                           ('nb_params', 512)])),\n",
       "             ('Conv2d-61',\n",
       "              OrderedDict([('input_shape', [-1, 128, 28, 28]),\n",
       "                           ('output_shape', [-1, 256, 14, 14]),\n",
       "                           ('trainable', False),\n",
       "                           ('nb_params', 32768)])),\n",
       "             ('BatchNorm2d-62',\n",
       "              OrderedDict([('input_shape', [-1, 256, 14, 14]),\n",
       "                           ('output_shape', [-1, 256, 14, 14]),\n",
       "                           ('trainable', False),\n",
       "                           ('nb_params', 512)])),\n",
       "             ('ReLU-63',\n",
       "              OrderedDict([('input_shape', [-1, 256, 14, 14]),\n",
       "                           ('output_shape', [-1, 256, 14, 14]),\n",
       "                           ('nb_params', 0)])),\n",
       "             ('BasicBlock-64',\n",
       "              OrderedDict([('input_shape', [-1, 128, 28, 28]),\n",
       "                           ('output_shape', [-1, 256, 14, 14]),\n",
       "                           ('nb_params', 0)])),\n",
       "             ('Conv2d-65',\n",
       "              OrderedDict([('input_shape', [-1, 256, 14, 14]),\n",
       "                           ('output_shape', [-1, 256, 14, 14]),\n",
       "                           ('trainable', False),\n",
       "                           ('nb_params', 589824)])),\n",
       "             ('BatchNorm2d-66',\n",
       "              OrderedDict([('input_shape', [-1, 256, 14, 14]),\n",
       "                           ('output_shape', [-1, 256, 14, 14]),\n",
       "                           ('trainable', False),\n",
       "                           ('nb_params', 512)])),\n",
       "             ('ReLU-67',\n",
       "              OrderedDict([('input_shape', [-1, 256, 14, 14]),\n",
       "                           ('output_shape', [-1, 256, 14, 14]),\n",
       "                           ('nb_params', 0)])),\n",
       "             ('Conv2d-68',\n",
       "              OrderedDict([('input_shape', [-1, 256, 14, 14]),\n",
       "                           ('output_shape', [-1, 256, 14, 14]),\n",
       "                           ('trainable', False),\n",
       "                           ('nb_params', 589824)])),\n",
       "             ('BatchNorm2d-69',\n",
       "              OrderedDict([('input_shape', [-1, 256, 14, 14]),\n",
       "                           ('output_shape', [-1, 256, 14, 14]),\n",
       "                           ('trainable', False),\n",
       "                           ('nb_params', 512)])),\n",
       "             ('ReLU-70',\n",
       "              OrderedDict([('input_shape', [-1, 256, 14, 14]),\n",
       "                           ('output_shape', [-1, 256, 14, 14]),\n",
       "                           ('nb_params', 0)])),\n",
       "             ('BasicBlock-71',\n",
       "              OrderedDict([('input_shape', [-1, 256, 14, 14]),\n",
       "                           ('output_shape', [-1, 256, 14, 14]),\n",
       "                           ('nb_params', 0)])),\n",
       "             ('Conv2d-72',\n",
       "              OrderedDict([('input_shape', [-1, 256, 14, 14]),\n",
       "                           ('output_shape', [-1, 256, 14, 14]),\n",
       "                           ('trainable', False),\n",
       "                           ('nb_params', 589824)])),\n",
       "             ('BatchNorm2d-73',\n",
       "              OrderedDict([('input_shape', [-1, 256, 14, 14]),\n",
       "                           ('output_shape', [-1, 256, 14, 14]),\n",
       "                           ('trainable', False),\n",
       "                           ('nb_params', 512)])),\n",
       "             ('ReLU-74',\n",
       "              OrderedDict([('input_shape', [-1, 256, 14, 14]),\n",
       "                           ('output_shape', [-1, 256, 14, 14]),\n",
       "                           ('nb_params', 0)])),\n",
       "             ('Conv2d-75',\n",
       "              OrderedDict([('input_shape', [-1, 256, 14, 14]),\n",
       "                           ('output_shape', [-1, 256, 14, 14]),\n",
       "                           ('trainable', False),\n",
       "                           ('nb_params', 589824)])),\n",
       "             ('BatchNorm2d-76',\n",
       "              OrderedDict([('input_shape', [-1, 256, 14, 14]),\n",
       "                           ('output_shape', [-1, 256, 14, 14]),\n",
       "                           ('trainable', False),\n",
       "                           ('nb_params', 512)])),\n",
       "             ('ReLU-77',\n",
       "              OrderedDict([('input_shape', [-1, 256, 14, 14]),\n",
       "                           ('output_shape', [-1, 256, 14, 14]),\n",
       "                           ('nb_params', 0)])),\n",
       "             ('BasicBlock-78',\n",
       "              OrderedDict([('input_shape', [-1, 256, 14, 14]),\n",
       "                           ('output_shape', [-1, 256, 14, 14]),\n",
       "                           ('nb_params', 0)])),\n",
       "             ('Conv2d-79',\n",
       "              OrderedDict([('input_shape', [-1, 256, 14, 14]),\n",
       "                           ('output_shape', [-1, 256, 14, 14]),\n",
       "                           ('trainable', False),\n",
       "                           ('nb_params', 589824)])),\n",
       "             ('BatchNorm2d-80',\n",
       "              OrderedDict([('input_shape', [-1, 256, 14, 14]),\n",
       "                           ('output_shape', [-1, 256, 14, 14]),\n",
       "                           ('trainable', False),\n",
       "                           ('nb_params', 512)])),\n",
       "             ('ReLU-81',\n",
       "              OrderedDict([('input_shape', [-1, 256, 14, 14]),\n",
       "                           ('output_shape', [-1, 256, 14, 14]),\n",
       "                           ('nb_params', 0)])),\n",
       "             ('Conv2d-82',\n",
       "              OrderedDict([('input_shape', [-1, 256, 14, 14]),\n",
       "                           ('output_shape', [-1, 256, 14, 14]),\n",
       "                           ('trainable', False),\n",
       "                           ('nb_params', 589824)])),\n",
       "             ('BatchNorm2d-83',\n",
       "              OrderedDict([('input_shape', [-1, 256, 14, 14]),\n",
       "                           ('output_shape', [-1, 256, 14, 14]),\n",
       "                           ('trainable', False),\n",
       "                           ('nb_params', 512)])),\n",
       "             ('ReLU-84',\n",
       "              OrderedDict([('input_shape', [-1, 256, 14, 14]),\n",
       "                           ('output_shape', [-1, 256, 14, 14]),\n",
       "                           ('nb_params', 0)])),\n",
       "             ('BasicBlock-85',\n",
       "              OrderedDict([('input_shape', [-1, 256, 14, 14]),\n",
       "                           ('output_shape', [-1, 256, 14, 14]),\n",
       "                           ('nb_params', 0)])),\n",
       "             ('Conv2d-86',\n",
       "              OrderedDict([('input_shape', [-1, 256, 14, 14]),\n",
       "                           ('output_shape', [-1, 256, 14, 14]),\n",
       "                           ('trainable', False),\n",
       "                           ('nb_params', 589824)])),\n",
       "             ('BatchNorm2d-87',\n",
       "              OrderedDict([('input_shape', [-1, 256, 14, 14]),\n",
       "                           ('output_shape', [-1, 256, 14, 14]),\n",
       "                           ('trainable', False),\n",
       "                           ('nb_params', 512)])),\n",
       "             ('ReLU-88',\n",
       "              OrderedDict([('input_shape', [-1, 256, 14, 14]),\n",
       "                           ('output_shape', [-1, 256, 14, 14]),\n",
       "                           ('nb_params', 0)])),\n",
       "             ('Conv2d-89',\n",
       "              OrderedDict([('input_shape', [-1, 256, 14, 14]),\n",
       "                           ('output_shape', [-1, 256, 14, 14]),\n",
       "                           ('trainable', False),\n",
       "                           ('nb_params', 589824)])),\n",
       "             ('BatchNorm2d-90',\n",
       "              OrderedDict([('input_shape', [-1, 256, 14, 14]),\n",
       "                           ('output_shape', [-1, 256, 14, 14]),\n",
       "                           ('trainable', False),\n",
       "                           ('nb_params', 512)])),\n",
       "             ('ReLU-91',\n",
       "              OrderedDict([('input_shape', [-1, 256, 14, 14]),\n",
       "                           ('output_shape', [-1, 256, 14, 14]),\n",
       "                           ('nb_params', 0)])),\n",
       "             ('BasicBlock-92',\n",
       "              OrderedDict([('input_shape', [-1, 256, 14, 14]),\n",
       "                           ('output_shape', [-1, 256, 14, 14]),\n",
       "                           ('nb_params', 0)])),\n",
       "             ('Conv2d-93',\n",
       "              OrderedDict([('input_shape', [-1, 256, 14, 14]),\n",
       "                           ('output_shape', [-1, 256, 14, 14]),\n",
       "                           ('trainable', False),\n",
       "                           ('nb_params', 589824)])),\n",
       "             ('BatchNorm2d-94',\n",
       "              OrderedDict([('input_shape', [-1, 256, 14, 14]),\n",
       "                           ('output_shape', [-1, 256, 14, 14]),\n",
       "                           ('trainable', False),\n",
       "                           ('nb_params', 512)])),\n",
       "             ('ReLU-95',\n",
       "              OrderedDict([('input_shape', [-1, 256, 14, 14]),\n",
       "                           ('output_shape', [-1, 256, 14, 14]),\n",
       "                           ('nb_params', 0)])),\n",
       "             ('Conv2d-96',\n",
       "              OrderedDict([('input_shape', [-1, 256, 14, 14]),\n",
       "                           ('output_shape', [-1, 256, 14, 14]),\n",
       "                           ('trainable', False),\n",
       "                           ('nb_params', 589824)])),\n",
       "             ('BatchNorm2d-97',\n",
       "              OrderedDict([('input_shape', [-1, 256, 14, 14]),\n",
       "                           ('output_shape', [-1, 256, 14, 14]),\n",
       "                           ('trainable', False),\n",
       "                           ('nb_params', 512)])),\n",
       "             ('ReLU-98',\n",
       "              OrderedDict([('input_shape', [-1, 256, 14, 14]),\n",
       "                           ('output_shape', [-1, 256, 14, 14]),\n",
       "                           ('nb_params', 0)])),\n",
       "             ('BasicBlock-99',\n",
       "              OrderedDict([('input_shape', [-1, 256, 14, 14]),\n",
       "                           ('output_shape', [-1, 256, 14, 14]),\n",
       "                           ('nb_params', 0)])),\n",
       "             ('Conv2d-100',\n",
       "              OrderedDict([('input_shape', [-1, 256, 14, 14]),\n",
       "                           ('output_shape', [-1, 512, 7, 7]),\n",
       "                           ('trainable', False),\n",
       "                           ('nb_params', 1179648)])),\n",
       "             ('BatchNorm2d-101',\n",
       "              OrderedDict([('input_shape', [-1, 512, 7, 7]),\n",
       "                           ('output_shape', [-1, 512, 7, 7]),\n",
       "                           ('trainable', False),\n",
       "                           ('nb_params', 1024)])),\n",
       "             ('ReLU-102',\n",
       "              OrderedDict([('input_shape', [-1, 512, 7, 7]),\n",
       "                           ('output_shape', [-1, 512, 7, 7]),\n",
       "                           ('nb_params', 0)])),\n",
       "             ('Conv2d-103',\n",
       "              OrderedDict([('input_shape', [-1, 512, 7, 7]),\n",
       "                           ('output_shape', [-1, 512, 7, 7]),\n",
       "                           ('trainable', False),\n",
       "                           ('nb_params', 2359296)])),\n",
       "             ('BatchNorm2d-104',\n",
       "              OrderedDict([('input_shape', [-1, 512, 7, 7]),\n",
       "                           ('output_shape', [-1, 512, 7, 7]),\n",
       "                           ('trainable', False),\n",
       "                           ('nb_params', 1024)])),\n",
       "             ('Conv2d-105',\n",
       "              OrderedDict([('input_shape', [-1, 256, 14, 14]),\n",
       "                           ('output_shape', [-1, 512, 7, 7]),\n",
       "                           ('trainable', False),\n",
       "                           ('nb_params', 131072)])),\n",
       "             ('BatchNorm2d-106',\n",
       "              OrderedDict([('input_shape', [-1, 512, 7, 7]),\n",
       "                           ('output_shape', [-1, 512, 7, 7]),\n",
       "                           ('trainable', False),\n",
       "                           ('nb_params', 1024)])),\n",
       "             ('ReLU-107',\n",
       "              OrderedDict([('input_shape', [-1, 512, 7, 7]),\n",
       "                           ('output_shape', [-1, 512, 7, 7]),\n",
       "                           ('nb_params', 0)])),\n",
       "             ('BasicBlock-108',\n",
       "              OrderedDict([('input_shape', [-1, 256, 14, 14]),\n",
       "                           ('output_shape', [-1, 512, 7, 7]),\n",
       "                           ('nb_params', 0)])),\n",
       "             ('Conv2d-109',\n",
       "              OrderedDict([('input_shape', [-1, 512, 7, 7]),\n",
       "                           ('output_shape', [-1, 512, 7, 7]),\n",
       "                           ('trainable', False),\n",
       "                           ('nb_params', 2359296)])),\n",
       "             ('BatchNorm2d-110',\n",
       "              OrderedDict([('input_shape', [-1, 512, 7, 7]),\n",
       "                           ('output_shape', [-1, 512, 7, 7]),\n",
       "                           ('trainable', False),\n",
       "                           ('nb_params', 1024)])),\n",
       "             ('ReLU-111',\n",
       "              OrderedDict([('input_shape', [-1, 512, 7, 7]),\n",
       "                           ('output_shape', [-1, 512, 7, 7]),\n",
       "                           ('nb_params', 0)])),\n",
       "             ('Conv2d-112',\n",
       "              OrderedDict([('input_shape', [-1, 512, 7, 7]),\n",
       "                           ('output_shape', [-1, 512, 7, 7]),\n",
       "                           ('trainable', False),\n",
       "                           ('nb_params', 2359296)])),\n",
       "             ('BatchNorm2d-113',\n",
       "              OrderedDict([('input_shape', [-1, 512, 7, 7]),\n",
       "                           ('output_shape', [-1, 512, 7, 7]),\n",
       "                           ('trainable', False),\n",
       "                           ('nb_params', 1024)])),\n",
       "             ('ReLU-114',\n",
       "              OrderedDict([('input_shape', [-1, 512, 7, 7]),\n",
       "                           ('output_shape', [-1, 512, 7, 7]),\n",
       "                           ('nb_params', 0)])),\n",
       "             ('BasicBlock-115',\n",
       "              OrderedDict([('input_shape', [-1, 512, 7, 7]),\n",
       "                           ('output_shape', [-1, 512, 7, 7]),\n",
       "                           ('nb_params', 0)])),\n",
       "             ('Conv2d-116',\n",
       "              OrderedDict([('input_shape', [-1, 512, 7, 7]),\n",
       "                           ('output_shape', [-1, 512, 7, 7]),\n",
       "                           ('trainable', False),\n",
       "                           ('nb_params', 2359296)])),\n",
       "             ('BatchNorm2d-117',\n",
       "              OrderedDict([('input_shape', [-1, 512, 7, 7]),\n",
       "                           ('output_shape', [-1, 512, 7, 7]),\n",
       "                           ('trainable', False),\n",
       "                           ('nb_params', 1024)])),\n",
       "             ('ReLU-118',\n",
       "              OrderedDict([('input_shape', [-1, 512, 7, 7]),\n",
       "                           ('output_shape', [-1, 512, 7, 7]),\n",
       "                           ('nb_params', 0)])),\n",
       "             ('Conv2d-119',\n",
       "              OrderedDict([('input_shape', [-1, 512, 7, 7]),\n",
       "                           ('output_shape', [-1, 512, 7, 7]),\n",
       "                           ('trainable', False),\n",
       "                           ('nb_params', 2359296)])),\n",
       "             ('BatchNorm2d-120',\n",
       "              OrderedDict([('input_shape', [-1, 512, 7, 7]),\n",
       "                           ('output_shape', [-1, 512, 7, 7]),\n",
       "                           ('trainable', False),\n",
       "                           ('nb_params', 1024)])),\n",
       "             ('ReLU-121',\n",
       "              OrderedDict([('input_shape', [-1, 512, 7, 7]),\n",
       "                           ('output_shape', [-1, 512, 7, 7]),\n",
       "                           ('nb_params', 0)])),\n",
       "             ('BasicBlock-122',\n",
       "              OrderedDict([('input_shape', [-1, 512, 7, 7]),\n",
       "                           ('output_shape', [-1, 512, 7, 7]),\n",
       "                           ('nb_params', 0)])),\n",
       "             ('AdaptiveMaxPool2d-123',\n",
       "              OrderedDict([('input_shape', [-1, 512, 7, 7]),\n",
       "                           ('output_shape', [-1, 512, 1, 1]),\n",
       "                           ('nb_params', 0)])),\n",
       "             ('AdaptiveAvgPool2d-124',\n",
       "              OrderedDict([('input_shape', [-1, 512, 7, 7]),\n",
       "                           ('output_shape', [-1, 512, 1, 1]),\n",
       "                           ('nb_params', 0)])),\n",
       "             ('AdaptiveConcatPool2d-125',\n",
       "              OrderedDict([('input_shape', [-1, 512, 7, 7]),\n",
       "                           ('output_shape', [-1, 1024, 1, 1]),\n",
       "                           ('nb_params', 0)])),\n",
       "             ('Flatten-126',\n",
       "              OrderedDict([('input_shape', [-1, 1024, 1, 1]),\n",
       "                           ('output_shape', [-1, 1024]),\n",
       "                           ('nb_params', 0)])),\n",
       "             ('BatchNorm1d-127',\n",
       "              OrderedDict([('input_shape', [-1, 1024]),\n",
       "                           ('output_shape', [-1, 1024]),\n",
       "                           ('trainable', True),\n",
       "                           ('nb_params', 2048)])),\n",
       "             ('Dropout-128',\n",
       "              OrderedDict([('input_shape', [-1, 1024]),\n",
       "                           ('output_shape', [-1, 1024]),\n",
       "                           ('nb_params', 0)])),\n",
       "             ('Linear-129',\n",
       "              OrderedDict([('input_shape', [-1, 1024]),\n",
       "                           ('output_shape', [-1, 512]),\n",
       "                           ('trainable', True),\n",
       "                           ('nb_params', 524800)])),\n",
       "             ('ReLU-130',\n",
       "              OrderedDict([('input_shape', [-1, 512]),\n",
       "                           ('output_shape', [-1, 512]),\n",
       "                           ('nb_params', 0)])),\n",
       "             ('BatchNorm1d-131',\n",
       "              OrderedDict([('input_shape', [-1, 512]),\n",
       "                           ('output_shape', [-1, 512]),\n",
       "                           ('trainable', True),\n",
       "                           ('nb_params', 1024)])),\n",
       "             ('Dropout-132',\n",
       "              OrderedDict([('input_shape', [-1, 512]),\n",
       "                           ('output_shape', [-1, 512]),\n",
       "                           ('nb_params', 0)])),\n",
       "             ('Linear-133',\n",
       "              OrderedDict([('input_shape', [-1, 512]),\n",
       "                           ('output_shape', [-1, 256]),\n",
       "                           ('trainable', True),\n",
       "                           ('nb_params', 131328)])),\n",
       "             ('ReLU-134',\n",
       "              OrderedDict([('input_shape', [-1, 256]),\n",
       "                           ('output_shape', [-1, 256]),\n",
       "                           ('nb_params', 0)])),\n",
       "             ('BatchNorm1d-135',\n",
       "              OrderedDict([('input_shape', [-1, 256]),\n",
       "                           ('output_shape', [-1, 256]),\n",
       "                           ('trainable', True),\n",
       "                           ('nb_params', 512)])),\n",
       "             ('Dropout-136',\n",
       "              OrderedDict([('input_shape', [-1, 256]),\n",
       "                           ('output_shape', [-1, 256]),\n",
       "                           ('nb_params', 0)])),\n",
       "             ('Linear-137',\n",
       "              OrderedDict([('input_shape', [-1, 256]),\n",
       "                           ('output_shape', [-1, 128]),\n",
       "                           ('trainable', True),\n",
       "                           ('nb_params', 32896)])),\n",
       "             ('ReLU-138',\n",
       "              OrderedDict([('input_shape', [-1, 128]),\n",
       "                           ('output_shape', [-1, 128]),\n",
       "                           ('nb_params', 0)])),\n",
       "             ('BatchNorm1d-139',\n",
       "              OrderedDict([('input_shape', [-1, 128]),\n",
       "                           ('output_shape', [-1, 128]),\n",
       "                           ('trainable', True),\n",
       "                           ('nb_params', 256)])),\n",
       "             ('Dropout-140',\n",
       "              OrderedDict([('input_shape', [-1, 128]),\n",
       "                           ('output_shape', [-1, 128]),\n",
       "                           ('nb_params', 0)])),\n",
       "             ('Linear-141',\n",
       "              OrderedDict([('input_shape', [-1, 128]),\n",
       "                           ('output_shape', [-1, 30]),\n",
       "                           ('trainable', True),\n",
       "                           ('nb_params', 3870)])),\n",
       "             ('LogSoftmax-142',\n",
       "              OrderedDict([('input_shape', [-1, 30]),\n",
       "                           ('output_shape', [-1, 30]),\n",
       "                           ('nb_params', 0)]))])"
      ]
     },
     "execution_count": 11,
     "metadata": {},
     "output_type": "execute_result"
    }
   ],
   "source": [
    "learn.summary()"
   ]
  },
  {
   "cell_type": "markdown",
   "metadata": {},
   "source": [
    "### Learning Rate Finder"
   ]
  },
  {
   "cell_type": "code",
   "execution_count": 21,
   "metadata": {},
   "outputs": [],
   "source": [
    "learn.save('temp_resnet34_30class')"
   ]
  },
  {
   "cell_type": "code",
   "execution_count": 22,
   "metadata": {},
   "outputs": [
    {
     "data": {
      "application/vnd.jupyter.widget-view+json": {
       "model_id": "2ca272c2f46c4f568f9b14f5b9b83dd2",
       "version_major": 2,
       "version_minor": 0
      },
      "text/plain": [
       "HBox(children=(IntProgress(value=0, description='Epoch', max=1, style=ProgressStyle(description_width='initial…"
      ]
     },
     "metadata": {},
     "output_type": "display_data"
    },
    {
     "name": "stdout",
     "output_type": "stream",
     "text": [
      " 87%|████████▋ | 939/1084 [00:21<00:03, 40.16it/s, loss=4.17]"
     ]
    }
   ],
   "source": [
    "learn.lr_find()"
   ]
  },
  {
   "cell_type": "code",
   "execution_count": 23,
   "metadata": {},
   "outputs": [
    {
     "data": {
      "image/png": "[encoded data removed]",
      "text/plain": [
       "<Figure size 432x288 with 1 Axes>"
      ]
     },
     "metadata": {
      "needs_background": "light"
     },
     "output_type": "display_data"
    }
   ],
   "source": [
    "learn.sched.plot()"
   ]
  },
  {
   "cell_type": "code",
   "execution_count": 24,
   "metadata": {},
   "outputs": [],
   "source": [
    "learn.load('temp_resnet34_30class')"
   ]
  },
  {
   "cell_type": "markdown",
   "metadata": {},
   "source": [
    "### Train Last Layer with Precompute = T"
   ]
  },
  {
   "cell_type": "code",
   "execution_count": 25,
   "metadata": {},
   "outputs": [
    {
     "data": {
      "application/vnd.jupyter.widget-view+json": {
       "model_id": "c86e8b8bb8a34bc0aedda243f5148c01",
       "version_major": 2,
       "version_minor": 0
      },
      "text/plain": [
       "HBox(children=(IntProgress(value=0, description='Epoch', max=5, style=ProgressStyle(description_width='initial…"
      ]
     },
     "metadata": {},
     "output_type": "display_data"
    },
    {
     "name": "stdout",
     "output_type": "stream",
     "text": [
      "epoch      trn_loss   val_loss   accuracy                     \n",
      "    0      2.306927   2.228435   0.36011   \n",
      "    1      2.134622   2.064627   0.406836                     \n",
      "    2      1.985661   1.981293   0.427897                     \n",
      "    3      1.815074   1.894577   0.46346                      \n",
      "    4      1.757998   1.862044   0.477961                     \n"
     ]
    },
    {
     "data": {
      "text/plain": [
       "[array([1.86204]), 0.47796063997183286]"
      ]
     },
     "execution_count": 25,
     "metadata": {},
     "output_type": "execute_result"
    }
   ],
   "source": [
    "learn.precompute = True\n",
    "learn.fit(1e-2, 5)"
   ]
  },
  {
   "cell_type": "code",
   "execution_count": 27,
   "metadata": {},
   "outputs": [],
   "source": [
    "learn.save('temp_resnet34_30class')"
   ]
  },
  {
   "cell_type": "markdown",
   "metadata": {},
   "source": [
    "### Train Last Layer with Precompute = F and Enable Data Augmentation"
   ]
  },
  {
   "cell_type": "code",
   "execution_count": 28,
   "metadata": {},
   "outputs": [
    {
     "data": {
      "application/vnd.jupyter.widget-view+json": {
       "model_id": "a167715704d04c5eb4c4cf74673652b4",
       "version_major": 2,
       "version_minor": 0
      },
      "text/plain": [
       "HBox(children=(IntProgress(value=0, description='Epoch', max=12, style=ProgressStyle(description_width='initia…"
      ]
     },
     "metadata": {},
     "output_type": "display_data"
    },
    {
     "name": "stdout",
     "output_type": "stream",
     "text": [
      "epoch      trn_loss   val_loss   accuracy                     \n",
      "    0      1.882978   1.808264   0.4836    \n",
      "    1      1.761615   1.749396   0.500748                     \n",
      "    2      1.688969   1.727028   0.508459                     \n",
      "    3      1.792758   1.763419   0.493037                     \n",
      "    4      1.676708   1.709808   0.511106                     \n",
      "    5      1.560519   1.689298   0.522039                     \n",
      "    6      1.716298   1.725291   0.507308                     \n",
      "    7      1.568483   1.672851   0.528024                     \n",
      "    8      1.496903   1.664784   0.533318                     \n",
      "    9      1.679051   1.705956   0.51617                      \n",
      "    10     1.529111   1.655595   0.539418                     \n",
      "    11     1.419954   1.63714    0.542755                     \n",
      "CPU times: user 11h 53min 7s, sys: 23h 17min 18s, total: 1d 11h 10min 26s\n",
      "Wall time: 1h 39min 19s\n"
     ]
    },
    {
     "data": {
      "text/plain": [
       "[array([1.63714]), 0.5427552077579256]"
      ]
     },
     "execution_count": 28,
     "metadata": {},
     "output_type": "execute_result"
    }
   ],
   "source": [
    "# with data augmentation\n",
    "learn.precompute = False\n",
    "%time learn.fit(1e-2, 4, cycle_len = 3)"
   ]
  },
  {
   "cell_type": "code",
   "execution_count": 29,
   "metadata": {},
   "outputs": [
    {
     "data": {
      "application/vnd.jupyter.widget-view+json": {
       "model_id": "7ddad9aa6b544205be7bd642f4d5c194",
       "version_major": 2,
       "version_minor": 0
      },
      "text/plain": [
       "HBox(children=(IntProgress(value=0, description='Epoch', max=10, style=ProgressStyle(description_width='initia…"
      ]
     },
     "metadata": {},
     "output_type": "display_data"
    },
    {
     "name": "stdout",
     "output_type": "stream",
     "text": [
      "epoch      trn_loss   val_loss   accuracy                     \n",
      "    0      1.585054   1.698432   0.521234  \n",
      "    1      1.532668   1.66571    0.531246                     \n",
      "    2      1.419807   1.635223   0.543906                     \n",
      "    3      1.333521   1.61447    0.547704                     \n",
      "    4      1.324872   1.611689   0.551387                     \n",
      "    5      1.536592   1.666179   0.532858                     \n",
      "    6      1.44246    1.630688   0.544021                     \n",
      "    7      1.365582   1.615543   0.551157                     \n",
      "    8      1.282557   1.592478   0.560824                     \n",
      "    9      1.219168   1.58265    0.563126                     \n",
      "CPU times: user 10h 2min 5s, sys: 19h 31min 41s, total: 1d 5h 33min 47s\n",
      "Wall time: 1h 23min 31s\n"
     ]
    },
    {
     "data": {
      "text/plain": [
       "[array([1.58265]), 0.5631257913126085]"
      ]
     },
     "execution_count": 29,
     "metadata": {},
     "output_type": "execute_result"
    }
   ],
   "source": [
    "%time learn.fit(1e-2, 2, cycle_len = 5)"
   ]
  },
  {
   "cell_type": "code",
   "execution_count": 31,
   "metadata": {},
   "outputs": [],
   "source": [
    "learn.save('temp_resnet34_30class')"
   ]
  },
  {
   "cell_type": "markdown",
   "metadata": {},
   "source": [
    "### Unfreeze and Train All Layers"
   ]
  },
  {
   "cell_type": "code",
   "execution_count": 32,
   "metadata": {},
   "outputs": [],
   "source": [
    "import numpy as np\n",
    "lrs = np.array([1e-4, 1e-3, 1e-2])"
   ]
  },
  {
   "cell_type": "code",
   "execution_count": 33,
   "metadata": {},
   "outputs": [
    {
     "data": {
      "application/vnd.jupyter.widget-view+json": {
       "model_id": "acca3f30a299447b8f48d96db5d44ce2",
       "version_major": 2,
       "version_minor": 0
      },
      "text/plain": [
       "HBox(children=(IntProgress(value=0, description='Epoch', max=2, style=ProgressStyle(description_width='initial…"
      ]
     },
     "metadata": {},
     "output_type": "display_data"
    },
    {
     "name": "stdout",
     "output_type": "stream",
     "text": [
      "epoch      trn_loss   val_loss   accuracy                     \n",
      "    0      1.445808   1.49133    0.569686  \n",
      "    1      1.169595   1.417306   0.592819                     \n",
      "CPU times: user 2h 20min 7s, sys: 4h 1min 10s, total: 6h 21min 18s\n",
      "Wall time: 37min 26s\n"
     ]
    },
    {
     "data": {
      "text/plain": [
       "[array([1.41731]), 0.5928185061915092]"
      ]
     },
     "execution_count": 33,
     "metadata": {},
     "output_type": "execute_result"
    }
   ],
   "source": [
    "learn.unfreeze()\n",
    "%time learn.fit(lrs, 1, cycle_len = 2)"
   ]
  },
  {
   "cell_type": "code",
   "execution_count": 34,
   "metadata": {
    "scrolled": true
   },
   "outputs": [
    {
     "data": {
      "application/vnd.jupyter.widget-view+json": {
       "model_id": "4ba0faf7442440ca82cbfc3b3cbf25b4",
       "version_major": 2,
       "version_minor": 0
      },
      "text/plain": [
       "HBox(children=(IntProgress(value=0, description='Epoch', max=33, style=ProgressStyle(description_width='initia…"
      ]
     },
     "metadata": {},
     "output_type": "display_data"
    },
    {
     "name": "stdout",
     "output_type": "stream",
     "text": [
      "epoch      trn_loss   val_loss   accuracy                     \n",
      "    0      1.300838   1.433223   0.58856   \n",
      "    1      1.021686   1.324114   0.628381                     \n",
      "    2      0.845933   1.298573   0.637703                      \n",
      "    3      1.120139   1.341868   0.619634                      \n",
      "    4      0.82885    1.247797   0.651744                      \n",
      "    5      0.709182   1.24298    0.658304                      \n",
      "    6      0.92754    1.299467   0.645874                      \n",
      "    7      0.705073   1.215261   0.670388                      \n",
      "    8      0.583841   1.210685   0.679825                      \n",
      "    9      0.834067   1.26781    0.660605                      \n",
      "    10     0.624488   1.209134   0.683853                      \n",
      "    11     0.448716   1.199624   0.687536                      \n",
      "    12     0.690244   1.242728   0.675797                      \n",
      "    13     0.522218   1.196627   0.691564                      \n",
      "    14     0.386579   1.200563   0.696858                      \n",
      "    15     0.630764   1.266651   0.681206                      \n",
      "    16     0.425928   1.21181    0.701692                      \n",
      "    17     0.349758   1.202982   0.704224                      \n",
      "    18     0.576543   1.278886   0.687996                      \n",
      "    19     0.375231   1.228471   0.706065                      \n",
      "    20     0.305777   1.208536   0.715157                      \n",
      "    21     0.477671   1.260395   0.700771                      \n",
      "    22     0.345742   1.22215    0.71297                       \n",
      "    23     0.267538   1.223529   0.716193                      \n",
      "    24     0.443036   1.28345    0.698469                      \n",
      "    25     0.319848   1.246184   0.715157                      \n",
      "    26     0.220058   1.237731   0.717229                      \n",
      "    27     0.411192   1.307007   0.702267                      \n",
      "    28     0.278023   1.24812    0.716768                      \n",
      "    29     0.210149   1.251107   0.722638                      \n",
      "    30     0.352488   1.329645   0.706525                      \n",
      "    31     0.268064   1.261228   0.721027                      \n",
      "    32     0.195945   1.243951   0.725515                      \n",
      "CPU times: user 1d 14h 45min 59s, sys: 2d 18h 33min 51s, total: 4d 9h 19min 51s\n",
      "Wall time: 10h 15min 35s\n"
     ]
    },
    {
     "data": {
      "text/plain": [
       "[array([1.24395]), 0.7255150189758074]"
      ]
     },
     "execution_count": 34,
     "metadata": {},
     "output_type": "execute_result"
    }
   ],
   "source": [
    "%time learn.fit(lrs, 11, cycle_len = 3)"
   ]
  },
  {
   "cell_type": "code",
   "execution_count": 35,
   "metadata": {},
   "outputs": [],
   "source": [
    "learn.save('temp_resnet34_30class')"
   ]
  },
  {
   "cell_type": "markdown",
   "metadata": {},
   "source": [
    "### Train with Bigger Image Size (299)"
   ]
  },
  {
   "cell_type": "code",
   "execution_count": 8,
   "metadata": {},
   "outputs": [
    {
     "data": {
      "application/vnd.jupyter.widget-view+json": {
       "model_id": "4cd50948c6ee4e6b941e6109fa2bdde5",
       "version_major": 2,
       "version_minor": 0
      },
      "text/plain": [
       "HBox(children=(IntProgress(value=0, max=6), HTML(value='')))"
      ]
     },
     "metadata": {},
     "output_type": "display_data"
    },
    {
     "name": "stdout",
     "output_type": "stream",
     "text": [
      "\n"
     ]
    }
   ],
   "source": [
    "learn.set_data(get_data(299, 128))\n",
    "learn.freeze()\n",
    "learn.precompute = True"
   ]
  },
  {
   "cell_type": "code",
   "execution_count": 43,
   "metadata": {},
   "outputs": [
    {
     "data": {
      "application/vnd.jupyter.widget-view+json": {
       "model_id": "194d57dc1e1b46a689159ee1205ad23b",
       "version_major": 2,
       "version_minor": 0
      },
      "text/plain": [
       "HBox(children=(IntProgress(value=0, description='Epoch', max=9, style=ProgressStyle(description_width='initial…"
      ]
     },
     "metadata": {},
     "output_type": "display_data"
    },
    {
     "name": "stdout",
     "output_type": "stream",
     "text": [
      "epoch      trn_loss   val_loss   accuracy                     \n",
      "    0      1.282625   1.609396   0.552538  \n",
      "    1      1.075613   1.586071   0.571872                     \n",
      "    2      0.933426   1.577997   0.574059                      \n",
      "    3      1.105971   1.576555   0.577512                     \n",
      "    4      0.89481    1.573606   0.588445                      \n",
      "    5      0.78353    1.578989   0.589596                      \n",
      "    6      0.930119   1.601622   0.580849                      \n",
      "    7      0.807545   1.61146    0.590747                      \n",
      "    8      0.680102   1.620541   0.592588                      \n",
      "CPU times: user 3min 44s, sys: 2min 54s, total: 6min 38s\n",
      "Wall time: 4min 17s\n"
     ]
    },
    {
     "data": {
      "text/plain": [
       "[array([1.62054]), 0.5925883302165609]"
      ]
     },
     "execution_count": 43,
     "metadata": {},
     "output_type": "execute_result"
    }
   ],
   "source": [
    "%time learn.fit(1e-2, 3, cycle_len = 3)"
   ]
  },
  {
   "cell_type": "code",
   "execution_count": 44,
   "metadata": {},
   "outputs": [
    {
     "data": {
      "application/vnd.jupyter.widget-view+json": {
       "model_id": "5841c19ba3624b3899782d21bca8327f",
       "version_major": 2,
       "version_minor": 0
      },
      "text/plain": [
       "HBox(children=(IntProgress(value=0, description='Epoch', max=12, style=ProgressStyle(description_width='initia…"
      ]
     },
     "metadata": {},
     "output_type": "display_data"
    },
    {
     "name": "stdout",
     "output_type": "stream",
     "text": [
      "epoch      trn_loss   val_loss   accuracy                      \n",
      "    0      0.891183   1.644766   0.585568  \n",
      "    1      0.768577   1.618596   0.601565                      \n",
      "    2      0.666009   1.625882   0.609506                      \n",
      "    3      0.578926   1.631259   0.606974                      \n",
      "    4      0.83034    1.655713   0.591553                      \n",
      "    5      0.718665   1.678539   0.600414                      \n",
      "    6      0.578743   1.663276   0.610197                      \n",
      "    7      0.505162   1.66823    0.606744                      \n",
      "    8      0.762383   1.717096   0.598228                      \n",
      "    9      0.648512   1.712119   0.601105                      \n",
      "    10     0.527741   1.723483   0.609506                      \n",
      "    11     0.470363   1.725275   0.609736                      \n",
      "CPU times: user 5min 12s, sys: 3min 37s, total: 8min 49s\n",
      "Wall time: 5min 41s\n"
     ]
    },
    {
     "data": {
      "text/plain": [
       "[array([1.72527]), 0.6097364485270684]"
      ]
     },
     "execution_count": 44,
     "metadata": {},
     "output_type": "execute_result"
    }
   ],
   "source": [
    "%time learn.fit(1e-2, 3, cycle_len = 4)"
   ]
  },
  {
   "cell_type": "code",
   "execution_count": 45,
   "metadata": {},
   "outputs": [
    {
     "data": {
      "application/vnd.jupyter.widget-view+json": {
       "model_id": "598d247122f94ddda1e315ef76c88ce9",
       "version_major": 2,
       "version_minor": 0
      },
      "text/plain": [
       "HBox(children=(IntProgress(value=0, description='Epoch', max=4, style=ProgressStyle(description_width='initial…"
      ]
     },
     "metadata": {},
     "output_type": "display_data"
    },
    {
     "name": "stdout",
     "output_type": "stream",
     "text": [
      "epoch      trn_loss   val_loss   accuracy                    \n",
      "    0      0.585914   1.293569   0.675337  \n",
      "    1      0.502187   1.261699   0.688802                    \n",
      "    2      0.453379   1.254277   0.692485                    \n",
      "    3      0.415375   1.250366   0.692945                    \n",
      "CPU times: user 3h 54min 57s, sys: 6h 23min 35s, total: 10h 18min 32s\n",
      "Wall time: 54min 14s\n"
     ]
    },
    {
     "data": {
      "text/plain": [
       "[array([1.25037]), 0.6929451033605065]"
      ]
     },
     "execution_count": 45,
     "metadata": {},
     "output_type": "execute_result"
    }
   ],
   "source": [
    "# benchmark: \n",
    "learn.precompute = False\n",
    "%time learn.fit(1e-2, 1, cycle_len = 4)"
   ]
  },
  {
   "cell_type": "code",
   "execution_count": 46,
   "metadata": {},
   "outputs": [
    {
     "data": {
      "application/vnd.jupyter.widget-view+json": {
       "model_id": "4090940c9d244db39e387328df97206b",
       "version_major": 2,
       "version_minor": 0
      },
      "text/plain": [
       "HBox(children=(IntProgress(value=0, description='Epoch', max=18, style=ProgressStyle(description_width='initia…"
      ]
     },
     "metadata": {},
     "output_type": "display_data"
    },
    {
     "name": "stdout",
     "output_type": "stream",
     "text": [
      "epoch      trn_loss   val_loss   accuracy                    \n",
      "    0      0.441387   1.219446   0.705029  \n",
      "    1      0.30013    1.174988   0.723559                    \n",
      "    2      0.258381   1.176209   0.727126                    \n",
      "    3      0.31237    1.211362   0.719761                    \n",
      "    4      0.245744   1.212997   0.727356                    \n",
      "    5      0.205409   1.206358   0.729543                    \n",
      "    6      0.256129   1.241452   0.730924                    \n",
      "    7      0.209333   1.227602   0.736448                    \n",
      "    8      0.175197   1.225013   0.735067                    \n",
      "    9      0.228876   1.274      0.729888                    \n",
      "    10     0.187936   1.249505   0.735067                    \n",
      "    11     0.163191   1.244771   0.739901                    \n",
      "    12     0.209153   1.272461   0.735298                    \n",
      "    13     0.170288   1.252388   0.73921                     \n",
      "    14     0.137601   1.251619   0.740592                    \n",
      "    15     0.188341   1.270082   0.738865                    \n",
      "    16     0.156539   1.253554   0.741052                    \n",
      "    17     0.129441   1.255336   0.743354                    \n",
      "CPU times: user 23h 6min 4s, sys: 1d 6h 49min 47s, total: 2d 5h 55min 51s\n",
      "Wall time: 10h 41min 38s\n"
     ]
    },
    {
     "data": {
      "text/plain": [
       "[array([1.25534]), 0.743353665615887]"
      ]
     },
     "execution_count": 46,
     "metadata": {},
     "output_type": "execute_result"
    }
   ],
   "source": [
    "lrs = np.array([1e-4, 1e-3, 1e-2])\n",
    "learn.unfreeze()\n",
    "%time learn.fit(lrs, 6, cycle_len = 3)"
   ]
  },
  {
   "cell_type": "code",
   "execution_count": 11,
   "metadata": {
    "scrolled": true
   },
   "outputs": [
    {
     "data": {
      "application/vnd.jupyter.widget-view+json": {
       "model_id": "f7ff8f2d85ed41f5ab6838aa02ba7682",
       "version_major": 2,
       "version_minor": 0
      },
      "text/plain": [
       "HBox(children=(IntProgress(value=0, description='Epoch', max=32, style=ProgressStyle(description_width='initia…"
      ]
     },
     "metadata": {},
     "output_type": "display_data"
    },
    {
     "name": "stdout",
     "output_type": "stream",
     "text": [
      "epoch      trn_loss   val_loss   accuracy                     \n",
      "    0      0.12601    1.271744   0.742778  \n",
      "    1      0.125924   1.274571   0.746346                    \n",
      "    2      0.124795   1.289027   0.743929                    \n",
      "    3      0.114341   1.298109   0.745195                    \n",
      "    4      0.115485   1.296367   0.743699                    \n",
      "    5      0.110357   1.299762   0.74531                     \n",
      "    6      0.105282   1.297612   0.745771                    \n",
      "    7      0.106471   1.302227   0.74531                      \n",
      "    8      0.119766   1.311766   0.74508                     \n",
      "    9      0.115042   1.308497   0.743008                    \n",
      "    10     0.116871   1.309532   0.746231                    \n",
      "    11     0.121556   1.316197   0.744274                    \n",
      "    12     0.1152     1.316732   0.746001                     \n",
      "    13     0.104193   1.317117   0.745886                     \n",
      "    14     0.09915    1.314499   0.746461                     \n",
      "    15     0.093225   1.313075   0.74485                      \n",
      "    16     0.115069   1.340927   0.744965                     \n",
      "    17     0.111917   1.32881    0.746116                    \n",
      "    18     0.11246    1.325058   0.744159                    \n",
      "    19     0.106411   1.329331   0.744274                     \n",
      "    20     0.109415   1.338494   0.745771                     \n",
      "    21     0.101196   1.336147   0.744735                     \n",
      "    22     0.097817   1.337122   0.743239                     \n",
      "    23     0.096711   1.33816    0.742778                     \n",
      "    24     0.112655   1.340451   0.74462                      \n",
      "    25     0.106183   1.340265   0.746806                     \n",
      "    26     0.108902   1.355793   0.747152                     \n",
      "    27     0.105906   1.348959   0.746231                     \n",
      "    28     0.103926   1.349921   0.747036                     \n",
      "    29     0.091408   1.343834   0.745195                     \n",
      "    30     0.09145    1.346633   0.745771                     \n",
      "    31     0.098647   1.347593   0.747382                     \n",
      "\n",
      "CPU times: user 1d 6h 53min 28s, sys: 2d 2h 36min 35s, total: 3d 9h 30min 4s\n",
      "Wall time: 7h 9min 54s\n"
     ]
    },
    {
     "data": {
      "text/plain": [
       "[array([1.34759]), 0.7473817471942579]"
      ]
     },
     "execution_count": 11,
     "metadata": {},
     "output_type": "execute_result"
    }
   ],
   "source": [
    "import numpy as np\n",
    "lrs = np.array([1e-4, 1e-3, 1e-2])\n",
    "%time learn.fit(lrs, 4, cycle_len = 8)"
   ]
  },
  {
   "cell_type": "code",
   "execution_count": 13,
   "metadata": {
    "scrolled": true
   },
   "outputs": [
    {
     "data": {
      "application/vnd.jupyter.widget-view+json": {
       "model_id": "72b0e529717141aa8b6f3ce53488d98b",
       "version_major": 2,
       "version_minor": 0
      },
      "text/plain": [
       "HBox(children=(IntProgress(value=0, description='Epoch', max=36, style=ProgressStyle(description_width='initia…"
      ]
     },
     "metadata": {},
     "output_type": "display_data"
    },
    {
     "name": "stdout",
     "output_type": "stream",
     "text": [
      "epoch      trn_loss   val_loss   accuracy                     \n",
      "    0      0.095976   1.339812   0.746231  \n",
      "    1      0.110782   1.349458   0.746231                     \n",
      "    2      0.104341   1.35182    0.747957                     \n",
      "    3      0.109754   1.363169   0.74508                      \n",
      "    4      0.104518   1.353962   0.747382                     \n",
      "    5      0.107255   1.351384   0.746691                     \n",
      "    6      0.09985    1.361717   0.747612                     \n",
      "    7      0.091313   1.361822   0.747497                     \n",
      "    8      0.095381   1.366104   0.747612                     \n",
      "    9      0.08769    1.363098   0.746461                     \n",
      "    10     0.092439   1.359529   0.747036                     \n",
      "    11     0.088627   1.35829    0.746576                     \n",
      "    12     0.110555   1.36217    0.746346                     \n",
      "    13     0.104132   1.366278   0.749223                     \n",
      "    14     0.100253   1.368976   0.747267                     \n",
      "    15     0.107278   1.373919   0.748187                     \n",
      "    16     0.098492   1.36826    0.747957                     \n",
      "    17     0.095304   1.367321   0.749223                     \n",
      "    18     0.094572   1.364466   0.747727                     \n",
      "    19     0.0843     1.369693   0.749338                     \n",
      "    20     0.091388   1.367315   0.749108                     \n",
      "    21     0.092618   1.36497    0.751065                     \n",
      "    22     0.086396   1.37037    0.748533                     \n",
      "    23     0.086326   1.363891   0.748763                     \n",
      "    24     0.10941    1.369827   0.746116                     \n",
      "    25     0.104647   1.372942   0.749223                     \n",
      "    26     0.095662   1.365614   0.748763                     \n",
      "    27     0.100529   1.370232   0.748072                     \n",
      "    28     0.1039     1.372706   0.747727                     \n",
      "    29     0.090036   1.367989   0.748072                     \n",
      "    30     0.09199    1.370393   0.747267                     \n",
      "    31     0.088567   1.363913   0.750489                     \n",
      "    32     0.090791   1.376052   0.748072                     \n",
      "    33     0.082438   1.372431   0.748648                     \n",
      "    34     0.080704   1.374194   0.748878                     \n",
      "    35     0.085018   1.371391   0.749568                     \n",
      "CPU times: user 1d 12h 11min 15s, sys: 2d 10h 58min 1s, total: 3d 23h 9min 17s\n",
      "Wall time: 8h 15min 19s\n"
     ]
    },
    {
     "data": {
      "text/plain": [
       "[array([1.37139]), 0.7495684199989535]"
      ]
     },
     "execution_count": 13,
     "metadata": {},
     "output_type": "execute_result"
    }
   ],
   "source": [
    "%time learn.fit(lrs, 3, cycle_len = 12)"
   ]
  },
  {
   "cell_type": "code",
   "execution_count": 69,
   "metadata": {},
   "outputs": [],
   "source": [
    "learn.save('temp_resnet32_30class')"
   ]
  },
  {
   "cell_type": "code",
   "execution_count": 67,
   "metadata": {},
   "outputs": [],
   "source": [
    "def vis_loss_acc(learn, figsize = (8, 12)):\n",
    "    n_epoch = learn.sched.epoch\n",
    "    bs = int(len(learn.sched.losses) / n_epoch)\n",
    "    # validation loss\n",
    "    val_loss = learn.sched.val_losses\n",
    "    trn_loss = [learn.sched.losses[i] for i in range(bs-1, n_epoch*bs, bs)]\n",
    "    # validation accuracy\n",
    "    val_acc = learn.sched.rec_metrics\n",
    "    # visualization\n",
    "    fig, ax = plt.subplots(2, 1, figsize = figsize)\n",
    "    iters = list(range(n_epoch))\n",
    "    ax[0].plot(iters, val_loss, label = 'Validation Loss')\n",
    "    ax[0].plot(iters, trn_loss, label = 'Training Loss')\n",
    "    ax[0].set_xlabel('Epoch')\n",
    "    ax[0].set_ylabel('Loss')\n",
    "    ax[0].legend(loc = 'upper right')\n",
    "    ax[1].plot(iters, val_acc)\n",
    "    ax[1].set_xlabel('Epoch')\n",
    "    ax[1].set_ylabel('Accuracy');"
   ]
  },
  {
   "cell_type": "code",
   "execution_count": 68,
   "metadata": {},
   "outputs": [
    {
     "data": {
      "image/png": "[encoded data removed]",
      "text/plain": [
       "<Figure size 576x864 with 2 Axes>"
      ]
     },
     "metadata": {
      "needs_background": "light"
     },
     "output_type": "display_data"
    }
   ],
   "source": [
    "# Seems the model has been trained to the limit\n",
    "vis_loss_acc(learn)"
   ]
  },
  {
   "cell_type": "markdown",
   "metadata": {},
   "source": [
    "### Test Time Augmentation"
   ]
  },
  {
   "cell_type": "code",
   "execution_count": 15,
   "metadata": {},
   "outputs": [
    {
     "name": "stdout",
     "output_type": "stream",
     "text": [
      "                                              \r"
     ]
    }
   ],
   "source": [
    "val_log_preds, val_y = learn.TTA()"
   ]
  },
  {
   "cell_type": "code",
   "execution_count": 17,
   "metadata": {},
   "outputs": [
    {
     "name": "stdout",
     "output_type": "stream",
     "text": [
      "                                              \r"
     ]
    }
   ],
   "source": [
    "test_log_preds, test_y = learn.TTA(is_test = True)"
   ]
  },
  {
   "cell_type": "code",
   "execution_count": 18,
   "metadata": {},
   "outputs": [],
   "source": [
    "def accuracy_custom(preds, tags):\n",
    "    preds_tags = np.argmax(preds, 1)\n",
    "    n = len(tags)\n",
    "    return sum(preds_tags == tags)/n"
   ]
  },
  {
   "cell_type": "code",
   "execution_count": 35,
   "metadata": {},
   "outputs": [
    {
     "name": "stdout",
     "output_type": "stream",
     "text": [
      "Validation set accuracy with TTA = 0.756000\n",
      "Test set accuracy with TTA = 0.745000\n"
     ]
    }
   ],
   "source": [
    "# Soft ensemble to aggregate augmented results\n",
    "val_probs = np.mean(np.exp(val_log_preds), 0)\n",
    "val_acc_wTTA = accuracy_custom(val_probs, val_y)\n",
    "test_probs = np.mean(np.exp(test_log_preds), 0)\n",
    "test_acc_wTTA = accuracy_custom(test_probs, test_y)\n",
    "print('Validation set accuracy with TTA = %f' % round(val_acc_wTTA,3))\n",
    "print('Test set accuracy with TTA = %f' % round(test_acc_wTTA, 3))"
   ]
  },
  {
   "cell_type": "code",
   "execution_count": 36,
   "metadata": {},
   "outputs": [
    {
     "name": "stdout",
     "output_type": "stream",
     "text": [
      "Validation set accuracy without TTA = 0.750000\n",
      "Test set accuracy without TTA = 0.736000\n"
     ]
    }
   ],
   "source": [
    "# test set performance without TTA\n",
    "val_log_preds_woTTA = learn.predict()\n",
    "val_acc_woTTA = accuracy_custom(val_log_preds_woTTA, val_y)\n",
    "test_log_preds_woTTA = learn.predict(is_test= True)\n",
    "test_acc_woTTA = accuracy_custom(test_log_preds_woTTA, test_y)\n",
    "print('Validation set accuracy without TTA = %f' % round(val_acc_woTTA, 3))\n",
    "print('Test set accuracy without TTA = %f' % round(test_acc_woTTA, 3))"
   ]
  },
  {
   "cell_type": "markdown",
   "metadata": {},
   "source": [
    "### Analysis of Result"
   ]
  },
  {
   "cell_type": "code",
   "execution_count": 40,
   "metadata": {},
   "outputs": [],
   "source": [
    "# Construct confusion matrix\n",
    "preds = np.argmax(probs, axis = 1)"
   ]
  },
  {
   "cell_type": "code",
   "execution_count": 41,
   "metadata": {
    "collapsed": true
   },
   "outputs": [
    {
     "name": "stdout",
     "output_type": "stream",
     "text": [
      "[[175   2   3  10  10   2   4   1   4   7   6   1   3   0   2   3   3   7   6   9   1   0   2   6   3   2\n",
      "    1  14   6   8]\n",
      " [  1 220   1   2   4   1   8   2   4   3   2   2   1   1   0   4   3   5   0   9   1   0   7   0   2   1\n",
      "    0   7   6   3]\n",
      " [  6   0 210   6   1   0   9   1   6  17   5   0   2   4   0   1   6   1   1   1   1   1   2   1   1   2\n",
      "    1   0   7   5]\n",
      " [ 11   5   1 200   5   1   3   4   9   0   2   0   6   7   0   3   0   5   5   2   0   0   3   0   7   4\n",
      "    3   2   4   4]\n",
      " [  3   1   0   2 203   1   5  21   0   0   5   2   1   1   1  10   0   1   7   8   1   0   2   0   3   3\n",
      "    4  11   0   2]\n",
      " [  6   0   0   2   2 226  12   0   9   2   2   5   3   1   0   0   2   2   3   0   0   1   3   3   1   1\n",
      "    2   2   7   3]\n",
      " [  8   3   0   6   1   7 214   0   1   0   4   8   1   1   0   2   0   1   1   1   0   0   9   1   2   3\n",
      "    5   5   8   8]\n",
      " [  6   1   1   4  19   3   0 192   3   1  12   1   1   0   1   6   0   3  12   1   0   1   4   0   6   3\n",
      "    2  10   4   2]\n",
      " [  9   4   8   4   2   7   2   1 188  12   4   4   3   1   0   2  12   3   3   4   0   3   3   2   4   0\n",
      "    1   0   2   5]\n",
      " [  5   4  21   1   0   0   0   1   7 230   1   0   3   0   0   0   3   2   0   2   0   0   0   6   1   1\n",
      "    0   0   9   3]\n",
      " [  8   2   5   4   4   3   4  11   4   0 187   0   4   1   0   2   4   5   3   2   3   0   8   1  11   6\n",
      "    2   7   2   8]\n",
      " [  0   0   1   0   4   7   5   0   1   0   0 256   0   0   0   0   0   5   2   2   1   2   2   0   0   0\n",
      "    4   3   6   0]\n",
      " [  4   0   2   4   0   1   0   2   2   2   4   2 255   0   0   2   3   4   0   1   0   1   1   0   2   1\n",
      "    6   0   1   1]\n",
      " [  0   0   0   8   0   1   2   0   0   0   0   0   4 116   0   2   0   0   0   0   0   0   0   0   1   0\n",
      "    0   0   0   0]\n",
      " [  0   0   0   0   1   0   0   1   3   0   0   0   1   1 276   2   0   0   0   0  14   0   0   0   0   0\n",
      "    0   0   0   1]\n",
      " [  4   6   2   6   3   1   1   6   5   1   3   3   3   1   0 196   2   5  15   2   1   1   4   2   5   4\n",
      "    4   2  10   1]\n",
      " [  1   3   7   0   0   3   0   0   3   4   0   0   0   0   1   0 262   1   0   1   0   0   1   4   0   0\n",
      "    1   0   9   0]\n",
      " [ 10   4   1   4   2   6   4   0   2   2   7  10   8   0   0   2   1 173   3   8   0   3   6   3   3   5\n",
      "    7   4  11  10]\n",
      " [  3   1   0   0   3   3   1   2   0   0   0   0   2   1   0   5   0   2 263   2   3   1   1   0   0   0\n",
      "    0   1   1   3]\n",
      " [ 13  12   4   9   4   1   5   3   3   2   4   1   2   0   1   4   0   5   6 190   2   0   2   1   2   1\n",
      "    5   6   5   7]\n",
      " [  0   0   2   0   0   0   0   0   0   2   4   1   0   0  18   2   0   0   2   0 258   2   4   0   0   0\n",
      "    2   1   1   2]\n",
      " [  1   1   0   0   0   0   0   0   1   0   0   0   0   0   0   0   0   2   0   0   0 159   5   0   0   0\n",
      "    0   1   0   1]\n",
      " [  3   1   2   2   1   5   9   4   0   1  12   5   5   0   0   3   0   6   0   6   4   0 188   0   6   3\n",
      "   13  13   3   5]\n",
      " [  5   7   2   1   1   4   3   1   2   0   0   0   2   0   1   1   8   4   0   3   0   0   0 242   0   0\n",
      "    1   0  11   1]\n",
      " [  0   0   1   2   1   2   0   5   2   1  12   0   6   0   0   6   1   3   3   2   1   0   5   0 233   7\n",
      "    0   1   2   4]\n",
      " [  3   0   4   5   2   0   3   0   7   1  16   0   4   2   0   4   2   1   0   1   1   0   3   0  10 222\n",
      "    0   3   2   4]\n",
      " [  1   1   0   0   4   1   3   1   5   0   0   9  10   0   0   1   0   3   2   4   1   1  10   0   0   0\n",
      "  236   4   0   3]\n",
      " [  6   5   1   2  13   3   6  13   2   0  14   0   1   0   0   2   0   5   0   6   2   1  11   0   2   4\n",
      "    4 193   1   1]\n",
      " [  8   2   8   2   2   6  10   1   5   5   1   2   1   0   0   8   9   6   0   7   1   1   2   4   1   1\n",
      "    1   1 196   8]\n",
      " [  4   1   4   3   1   1   3   2   6   2   7   0   3   1   0   4   2   4   1   5   3   0   3   2   3   1\n",
      "    3   0   1 231]]\n"
     ]
    },
    {
     "data": {
      "image/png": "[encoded data removed]",
      "text/plain": [
       "<Figure size 432x288 with 2 Axes>"
      ]
     },
     "metadata": {
      "needs_background": "light"
     },
     "output_type": "display_data"
    }
   ],
   "source": [
    "# Prediction with TTA\n",
    "from sklearn.metrics import confusion_matrix\n",
    "cm = confusion_matrix(y, preds)\n",
    "plot_confusion_matrix(cm, data.classes);"
   ]
  },
  {
   "cell_type": "code",
   "execution_count": null,
   "metadata": {},
   "outputs": [],
   "source": []
  }
 ],
 "metadata": {
  "kernelspec": {
   "display_name": "Python 3",
   "language": "python",
   "name": "python3"
  },
  "language_info": {
   "codemirror_mode": {
    "name": "ipython",
    "version": 3
   },
   "file_extension": ".py",
   "mimetype": "text/x-python",
   "name": "python",
   "nbconvert_exporter": "python",
   "pygments_lexer": "ipython3",
   "version": "3.6.6"
  },
  "toc": {
   "base_numbering": 1,
   "nav_menu": {},
   "number_sections": true,
   "sideBar": true,
   "skip_h1_title": false,
   "title_cell": "Table of Contents",
   "title_sidebar": "Contents",
   "toc_cell": false,
   "toc_position": {},
   "toc_section_display": true,
   "toc_window_display": false
  },
  "varInspector": {
   "cols": {
    "lenName": 16,
    "lenType": 16,
    "lenVar": 40
   },
   "kernels_config": {
    "python": {
     "delete_cmd_postfix": "",
     "delete_cmd_prefix": "del ",
     "library": "var_list.py",
     "varRefreshCmd": "print(var_dic_list())"
    },
    "r": {
     "delete_cmd_postfix": ") ",
     "delete_cmd_prefix": "rm(",
     "library": "var_list.r",
     "varRefreshCmd": "cat(var_dic_list()) "
    }
   },
   "types_to_exclude": [
    "module",
    "function",
    "builtin_function_or_method",
    "instance",
    "_Feature"
   ],
   "window_display": false
  }
 },
 "nbformat": 4,
 "nbformat_minor": 2
}
