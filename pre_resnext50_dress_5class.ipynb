{
 "cells": [
  {
   "cell_type": "code",
   "execution_count": 1,
   "metadata": {},
   "outputs": [],
   "source": [
    "%reload_ext autoreload\n",
    "%autoreload 2\n",
    "%matplotlib inline\n",
    "\n",
    "import sys\n",
    "sys.path.append('/home/r8user2/fastai/old')\n",
    "from fastai.imports import *\n",
    "from fastai.transforms import *\n",
    "from fastai.conv_learner import *\n",
    "from fastai.model import *\n",
    "from fastai.dataset import *\n",
    "from fastai.sgdr import *\n",
    "from fastai.plots import *\n",
    "import matplotlib.pyplot as plt"
   ]
  },
  {
   "cell_type": "code",
   "execution_count": 2,
   "metadata": {},
   "outputs": [],
   "source": [
    "# Selected data\n",
    "PATH = '/home/r8user2/Documents/HY/dress_data/alex_workplace/dressdata_project/git_workplace/selected_gd_data_5'\n",
    "# Full data\n",
    "#PATH = '/home/r8user2/Documents/HY/dress_data/datasets'\n",
    "sz = 299"
   ]
  },
  {
   "cell_type": "code",
   "execution_count": 4,
   "metadata": {},
   "outputs": [
    {
     "name": "stdout",
     "output_type": "stream",
     "text": [
      "100%|██████████| 187/187 [03:55<00:00,  1.14s/it]\n",
      "100%|██████████| 24/24 [00:32<00:00,  1.00s/it]\n"
     ]
    }
   ],
   "source": [
    "arch = resnext50\n",
    "data = ImageClassifierData.from_paths(path = PATH,\n",
    "                                      tfms = tfms_from_model(arch, sz),\n",
    "                                      trn_name = 'imgtrain',\n",
    "                                      val_name = 'imgval',\n",
    "                                      # utilize CPUs in remote\n",
    "                                      num_workers = 60)\n",
    "learn = ConvLearner.pretrained(arch, data, precompute = True)"
   ]
  },
  {
   "cell_type": "code",
   "execution_count": 5,
   "metadata": {},
   "outputs": [
    {
     "data": {
      "application/vnd.jupyter.widget-view+json": {
       "model_id": "237f928db18c4b158468f007bbd691ca",
       "version_major": 2,
       "version_minor": 0
      },
      "text/plain": [
       "HBox(children=(IntProgress(value=0, description='Epoch', max=20, style=ProgressStyle(description_width='initia…"
      ]
     },
     "metadata": {},
     "output_type": "display_data"
    },
    {
     "name": "stdout",
     "output_type": "stream",
     "text": [
      "epoch      trn_loss   val_loss   accuracy                    \n",
      "    0      0.830817   0.678471   0.730975  \n",
      "    1      0.681627   0.624223   0.750334                    \n",
      "    2      0.597383   0.566764   0.783712                    \n",
      "    3      0.53629    0.541833   0.790387                    \n",
      "    4      0.492472   0.517411   0.797063                    \n",
      "    5      0.462534   0.506594   0.816422                    \n",
      "    6      0.410528   0.499019   0.806409                    \n",
      "    7      0.387294   0.491564   0.818425                    \n",
      "    8      0.370857   0.45318    0.837784                    \n",
      "    9      0.334701   0.453032   0.840454                    \n",
      "    10     0.30328    0.464856   0.831776                    \n",
      "    11     0.298954   0.448551   0.836449                    \n",
      "    12     0.283739   0.459869   0.835113                    \n",
      "    13     0.253224   0.446724   0.847797                    \n",
      "    14     0.251319   0.425879   0.848465                    \n",
      "    15     0.232172   0.454937   0.848465                    \n",
      "    16     0.204283   0.454752   0.845127                    \n",
      "    17     0.203619   0.431891   0.847797                    \n",
      "    18     0.213333   0.425411   0.85514                     \n",
      "    19     0.182438   0.43209    0.85514                     \n",
      "\n"
     ]
    },
    {
     "data": {
      "text/plain": [
       "[array([0.43209]), 0.855140186677151]"
      ]
     },
     "execution_count": 5,
     "metadata": {},
     "output_type": "execute_result"
    }
   ],
   "source": [
    "learn.fit(0.01, 20)"
   ]
  },
  {
   "cell_type": "code",
   "execution_count": 6,
   "metadata": {},
   "outputs": [
    {
     "data": {
      "application/vnd.jupyter.widget-view+json": {
       "model_id": "55e2226cf352472db70d75353d6cbf1a",
       "version_major": 2,
       "version_minor": 0
      },
      "text/plain": [
       "HBox(children=(IntProgress(value=0, description='Epoch', max=7, style=ProgressStyle(description_width='initial…"
      ]
     },
     "metadata": {},
     "output_type": "display_data"
    },
    {
     "name": "stdout",
     "output_type": "stream",
     "text": [
      "epoch      trn_loss   val_loss   accuracy                    \n",
      "    0      0.165239   0.431285   0.855808  \n",
      "    1      0.16674    0.44026    0.854473                    \n",
      "    2      0.142457   0.431605   0.858478                    \n",
      "    3      0.156881   0.428417   0.853805                    \n",
      "    4      0.149618   0.44546    0.853138                    \n",
      "    5      0.113003   0.445301   0.85781                     \n",
      "    6      0.109913   0.439342   0.856475                    \n",
      "\n"
     ]
    },
    {
     "data": {
      "text/plain": [
       "[array([0.43934]), 0.8564753001617972]"
      ]
     },
     "execution_count": 6,
     "metadata": {},
     "output_type": "execute_result"
    }
   ],
   "source": [
    "learn.fit(0.01, 3, cycle_len = 1, cycle_mult = 2)"
   ]
  },
  {
   "cell_type": "code",
   "execution_count": 11,
   "metadata": {},
   "outputs": [
    {
     "data": {
      "application/vnd.jupyter.widget-view+json": {
       "model_id": "dfb3b37760214c63bb8e11b19620a083",
       "version_major": 2,
       "version_minor": 0
      },
      "text/plain": [
       "HBox(children=(IntProgress(value=0, description='Epoch', max=1, style=ProgressStyle(description_width='initial…"
      ]
     },
     "metadata": {},
     "output_type": "display_data"
    },
    {
     "name": "stdout",
     "output_type": "stream",
     "text": [
      "epoch      trn_loss   val_loss   accuracy                    \n",
      "    0      0.111243   0.437435   0.858478  \n",
      "\n"
     ]
    }
   ],
   "source": [
    "learn.lr_find(1e-10, 1e-5)"
   ]
  },
  {
   "cell_type": "code",
   "execution_count": 12,
   "metadata": {},
   "outputs": [
    {
     "data": {
      "image/png": "[encoded data removed]",
      "text/plain": [
       "<Figure size 432x288 with 1 Axes>"
      ]
     },
     "metadata": {
      "needs_background": "light"
     },
     "output_type": "display_data"
    }
   ],
   "source": [
    "learn.sched.plot()"
   ]
  },
  {
   "cell_type": "code",
   "execution_count": 14,
   "metadata": {},
   "outputs": [
    {
     "data": {
      "application/vnd.jupyter.widget-view+json": {
       "model_id": "8ef712102f5943c1943b3fff779d8a95",
       "version_major": 2,
       "version_minor": 0
      },
      "text/plain": [
       "HBox(children=(IntProgress(value=0, description='Epoch', max=15, style=ProgressStyle(description_width='initia…"
      ]
     },
     "metadata": {},
     "output_type": "display_data"
    },
    {
     "name": "stdout",
     "output_type": "stream",
     "text": [
      "epoch      trn_loss   val_loss   accuracy                    \n",
      "    0      0.144477   0.439325   0.854473  \n",
      "    1      0.136474   0.444972   0.85514                     \n",
      "    2      0.14509    0.443572   0.851802                    \n",
      "    3      0.143049   0.439373   0.85781                     \n",
      "    4      0.141043   0.440239   0.855808                    \n",
      "    5      0.153362   0.44477    0.853138                    \n",
      "    6      0.147189   0.442359   0.857143                    \n",
      "    7      0.150762   0.445101   0.85514                     \n",
      "    8      0.137513   0.442312   0.859146                    \n",
      "    9      0.150435   0.44105    0.858478                    \n",
      "    10     0.138497   0.435754   0.854473                    \n",
      "    11     0.142609   0.439371   0.85781                     \n",
      "    12     0.145653   0.438438   0.860481                    \n",
      "    13     0.132182   0.438264   0.857143                    \n",
      "    14     0.148258   0.43964    0.855808                    \n",
      "\n"
     ]
    },
    {
     "data": {
      "text/plain": [
       "[array([0.43964]), 0.8558077438969478]"
      ]
     },
     "execution_count": 14,
     "metadata": {},
     "output_type": "execute_result"
    }
   ],
   "source": [
    "import numpy as np\n",
    "lrs = np.array([1e-9, 1e-8, 1e-7])\n",
    "learn.unfreeze()\n",
    "learn.fit(lrs, 4, cycle_len = 1, cycle_mult = 2)"
   ]
  },
  {
   "cell_type": "code",
   "execution_count": null,
   "metadata": {},
   "outputs": [],
   "source": []
  }
 ],
 "metadata": {
  "kernelspec": {
   "display_name": "Python 3",
   "language": "python",
   "name": "python3"
  },
  "language_info": {
   "codemirror_mode": {
    "name": "ipython",
    "version": 3
   },
   "file_extension": ".py",
   "mimetype": "text/x-python",
   "name": "python",
   "nbconvert_exporter": "python",
   "pygments_lexer": "ipython3",
   "version": "3.6.6"
  },
  "toc": {
   "base_numbering": 1,
   "nav_menu": {},
   "number_sections": true,
   "sideBar": true,
   "skip_h1_title": false,
   "title_cell": "Table of Contents",
   "title_sidebar": "Contents",
   "toc_cell": false,
   "toc_position": {},
   "toc_section_display": true,
   "toc_window_display": false
  },
  "varInspector": {
   "cols": {
    "lenName": 16,
    "lenType": 16,
    "lenVar": 40
   },
   "kernels_config": {
    "python": {
     "delete_cmd_postfix": "",
     "delete_cmd_prefix": "del ",
     "library": "var_list.py",
     "varRefreshCmd": "print(var_dic_list())"
    },
    "r": {
     "delete_cmd_postfix": ") ",
     "delete_cmd_prefix": "rm(",
     "library": "var_list.r",
     "varRefreshCmd": "cat(var_dic_list()) "
    }
   },
   "types_to_exclude": [
    "module",
    "function",
    "builtin_function_or_method",
    "instance",
    "_Feature"
   ],
   "window_display": false
  }
 },
 "nbformat": 4,
 "nbformat_minor": 2
}
