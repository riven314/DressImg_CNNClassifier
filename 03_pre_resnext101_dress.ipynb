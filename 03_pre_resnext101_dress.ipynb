{
 "cells": [
  {
   "cell_type": "markdown",
   "metadata": {},
   "source": [
    "-Took almost a day to load in the data\n",
    "\n",
    "-Took so long for training\n",
    "\n",
    "-Start train performance is only ard 10%\n",
    "\n",
    "-Validation loss < Training loss"
   ]
  },
  {
   "cell_type": "code",
   "execution_count": 1,
   "metadata": {},
   "outputs": [],
   "source": [
    "%reload_ext autoreload\n",
    "%autoreload 2\n",
    "%matplotlib inline\n",
    "\n",
    "import sys\n",
    "sys.path.append('/home/r8user2/fastai/old')\n",
    "from fastai.imports import *\n",
    "from fastai.transforms import *\n",
    "from fastai.conv_learner import *\n",
    "from fastai.model import *\n",
    "from fastai.dataset import *\n",
    "from fastai.sgdr import *\n",
    "from fastai.plots import *\n",
    "import matplotlib.pyplot as plt\n",
    "import timeit"
   ]
  },
  {
   "cell_type": "code",
   "execution_count": 2,
   "metadata": {},
   "outputs": [],
   "source": [
    "# Selected data\n",
    "#PATH = '/home/r8user2/Documents/HY/dress_data/alex_workplace/dressdata_project/git_workplace/selected_gd_data_5'\n",
    "# Full data\n",
    "PATH = '/home/r8user2/Documents/HY/dress_data/datasets'\n",
    "sz = 422\n",
    "arch = resnext101_64"
   ]
  },
  {
   "cell_type": "code",
   "execution_count": 3,
   "metadata": {},
   "outputs": [],
   "source": [
    "# Data augmentation\n",
    "tfms = tfms_from_model(resnext101_64, \n",
    "                       sz, \n",
    "                       # transform_top_down: flip vertically\n",
    "                       # transform_side_on: flip horizontally\n",
    "                       aug_tfms = transforms_side_on,\n",
    "                       max_zoom = 1.1)"
   ]
  },
  {
   "cell_type": "code",
   "execution_count": 4,
   "metadata": {},
   "outputs": [
    {
     "name": "stdout",
     "output_type": "stream",
     "text": [
      "100%|██████████| 7435/7435 [16:00:16<00:00,  6.28s/it]   \n",
      "100%|██████████| 939/939 [1:57:37<00:00,  5.69s/it]  \n"
     ]
    }
   ],
   "source": [
    "data = ImageClassifierData.from_paths(path = PATH,\n",
    "                                      tfms = tfms,\n",
    "                                      trn_name = 'imgtrain',\n",
    "                                      val_name = 'imgval',\n",
    "                                      # utilize CPUs in remote\n",
    "                                      num_workers = 60)\n",
    "learn = ConvLearner.pretrained(arch, data, precompute = True)"
   ]
  },
  {
   "cell_type": "code",
   "execution_count": 5,
   "metadata": {},
   "outputs": [],
   "source": [
    "learn.save('temp_resnext101')"
   ]
  },
  {
   "cell_type": "code",
   "execution_count": 6,
   "metadata": {},
   "outputs": [
    {
     "data": {
      "application/vnd.jupyter.widget-view+json": {
       "model_id": "5b7f237ef9dc477680cf316146293ffc",
       "version_major": 2,
       "version_minor": 0
      },
      "text/plain": [
       "HBox(children=(IntProgress(value=0, description='Epoch', max=1, style=ProgressStyle(description_width='initial…"
      ]
     },
     "metadata": {},
     "output_type": "display_data"
    },
    {
     "name": "stdout",
     "output_type": "stream",
     "text": [
      "epoch      trn_loss   val_loss   accuracy                     \n",
      "    0      4.36935    4.224544   0.10896   \n",
      "\n"
     ]
    }
   ],
   "source": [
    "# Find optimal learning rate\n",
    "learn.lr_find(1e-5, 1e-1)"
   ]
  },
  {
   "cell_type": "code",
   "execution_count": null,
   "metadata": {},
   "outputs": [
    {
     "data": {
      "image/png": "[encoded data removed]",
      "text/plain": [
       "<Figure size 432x288 with 1 Axes>"
      ]
     },
     "metadata": {
      "needs_background": "light"
     },
     "output_type": "display_data"
    }
   ],
   "source": [
    "learn.sched.plot()"
   ]
  },
  {
   "cell_type": "code",
   "execution_count": null,
   "metadata": {},
   "outputs": [
    {
     "data": {
      "application/vnd.jupyter.widget-view+json": {
       "model_id": "c281262fd3e84bc789d7573b3f699d05",
       "version_major": 2,
       "version_minor": 0
      },
      "text/plain": [
       "HBox(children=(IntProgress(value=0, description='Epoch', max=4, style=ProgressStyle(description_width='initial…"
      ]
     },
     "metadata": {},
     "output_type": "display_data"
    },
    {
     "name": "stdout",
     "output_type": "stream",
     "text": [
      "epoch      trn_loss   val_loss   accuracy                     \n",
      "    0      4.455915   4.203832   0.122211  \n",
      "    1      4.262825   4.041487   0.14149                      \n",
      "    2      4.154855   3.956736   0.153842                     \n",
      "    3      4.060721   3.891838   0.162383                     \n",
      "\n",
      "0 mins \n"
     ]
    }
   ],
   "source": [
    "# Raw train a few rounds\n",
    "start = timeit.timeit()\n",
    "learn.load('temp_resnext101')\n",
    "learn.fit(1e-3, 4)\n",
    "end = timeit.timeit()\n",
    "print('%d mins '% ((end - start)/60))"
   ]
  },
  {
   "cell_type": "code",
   "execution_count": null,
   "metadata": {},
   "outputs": [],
   "source": [
    "learn.save('temp_resnext101')"
   ]
  },
  {
   "cell_type": "code",
   "execution_count": null,
   "metadata": {},
   "outputs": [
    {
     "data": {
      "application/vnd.jupyter.widget-view+json": {
       "model_id": "b28b28bbe3a24372b65738a9e02215c7",
       "version_major": 2,
       "version_minor": 0
      },
      "text/plain": [
       "HBox(children=(IntProgress(value=0, description='Epoch', max=15, style=ProgressStyle(description_width='initia…"
      ]
     },
     "metadata": {},
     "output_type": "display_data"
    },
    {
     "name": "stdout",
     "output_type": "stream",
     "text": [
      " 30%|███       | 2231/7435 [5:24:03<11:03:50,  7.65s/it, loss=4.08]"
     ]
    }
   ],
   "source": [
    "# Further train with cosine increasing annealing (and data augmentation)\n",
    "start = timeit.timeit()\n",
    "learn.precompute = False\n",
    "learn.fit(1e-3, 4, cycle_len = 1, cycle_mult = 2)\n",
    "end = timeit.timeit()\n",
    "learn.precompute = True\n",
    "print('%d mins' % ((end-start)/60))"
   ]
  },
  {
   "cell_type": "code",
   "execution_count": null,
   "metadata": {},
   "outputs": [],
   "source": [
    "# Further train with cosine constant annealing (and data augmentation)\n",
    "start = timeit.timeit()\n",
    "learn.load('temp_resnext101')\n",
    "learn.precompute = False\n",
    "learn.fit(1e-3, 15, cycle_len = 1)\n",
    "end = timeit.timeit()\n",
    "learn.precompute = True\n",
    "print('%d mins' % ((end-start)/60))"
   ]
  },
  {
   "cell_type": "code",
   "execution_count": null,
   "metadata": {},
   "outputs": [],
   "source": [
    "# Further train with differential learning and constant annealing\n",
    "lrs = np.array([1e-5, 1e-4, 1e-3])\n",
    "learn.load('temp_resnext101')\n",
    "learn.unfreeze()\n",
    "start = timeit.timeit()\n",
    "learn.fit(lrs, 7, cycle_len = 1)\n",
    "end = timeit.timeit()\n",
    "print('%d mins' % ((end-start)/60))"
   ]
  },
  {
   "cell_type": "code",
   "execution_count": null,
   "metadata": {},
   "outputs": [],
   "source": [
    "# Further train with differential learning and increasing annealing\n",
    "learn.precompute = True\n",
    "learn.load('temp_resnext101')\n",
    "learn.unfreeze()\n",
    "start = timeit.timeit()\n",
    "learn.fit(lrs, 3, cycle_len = 1, cycle_mult = 2)\n",
    "end = timeit.timeit()\n",
    "print('%d mins' % ((end-start)/60))"
   ]
  },
  {
   "cell_type": "code",
   "execution_count": null,
   "metadata": {},
   "outputs": [],
   "source": []
  }
 ],
 "metadata": {
  "kernelspec": {
   "display_name": "Python 3",
   "language": "python",
   "name": "python3"
  },
  "language_info": {
   "codemirror_mode": {
    "name": "ipython",
    "version": 3
   },
   "file_extension": ".py",
   "mimetype": "text/x-python",
   "name": "python",
   "nbconvert_exporter": "python",
   "pygments_lexer": "ipython3",
   "version": "3.6.6"
  },
  "toc": {
   "base_numbering": 1,
   "nav_menu": {},
   "number_sections": true,
   "sideBar": true,
   "skip_h1_title": false,
   "title_cell": "Table of Contents",
   "title_sidebar": "Contents",
   "toc_cell": false,
   "toc_position": {},
   "toc_section_display": true,
   "toc_window_display": false
  },
  "varInspector": {
   "cols": {
    "lenName": 16,
    "lenType": 16,
    "lenVar": 40
   },
   "kernels_config": {
    "python": {
     "delete_cmd_postfix": "",
     "delete_cmd_prefix": "del ",
     "library": "var_list.py",
     "varRefreshCmd": "print(var_dic_list())"
    },
    "r": {
     "delete_cmd_postfix": ") ",
     "delete_cmd_prefix": "rm(",
     "library": "var_list.r",
     "varRefreshCmd": "cat(var_dic_list()) "
    }
   },
   "types_to_exclude": [
    "module",
    "function",
    "builtin_function_or_method",
    "instance",
    "_Feature"
   ],
   "window_display": false
  }
 },
 "nbformat": 4,
 "nbformat_minor": 2
}
